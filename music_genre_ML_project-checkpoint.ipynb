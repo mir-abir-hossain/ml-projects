{
 "cells": [
  {
   "cell_type": "code",
   "execution_count": 37,
   "id": "c3dd7de8",
   "metadata": {
    "scrolled": true
   },
   "outputs": [
    {
     "name": "stdout",
     "output_type": "stream",
     "text": [
      "Collecting seabornNote: you may need to restart the kernel to use updated packages.\n"
     ]
    },
    {
     "name": "stderr",
     "output_type": "stream",
     "text": [
      "WARNING: You are using pip version 20.2.3; however, version 22.0.4 is available.\n",
      "You should consider upgrading via the 'c:\\users\\administrator\\appdata\\local\\programs\\python\\python39\\python.exe -m pip install --upgrade pip' command.\n"
     ]
    },
    {
     "name": "stdout",
     "output_type": "stream",
     "text": [
      "\n",
      "  Downloading seaborn-0.11.2-py3-none-any.whl (292 kB)\n",
      "Requirement already satisfied: matplotlib>=2.2 in c:\\users\\administrator\\appdata\\local\\programs\\python\\python39\\lib\\site-packages (from seaborn) (3.4.2)\n",
      "Requirement already satisfied: scipy>=1.0 in c:\\users\\administrator\\appdata\\local\\programs\\python\\python39\\lib\\site-packages (from seaborn) (1.7.1)\n",
      "Requirement already satisfied: numpy>=1.15 in c:\\users\\administrator\\appdata\\local\\programs\\python\\python39\\lib\\site-packages (from seaborn) (1.21.1)\n",
      "Requirement already satisfied: pandas>=0.23 in c:\\users\\administrator\\appdata\\local\\programs\\python\\python39\\lib\\site-packages (from seaborn) (1.3.0)\n",
      "Requirement already satisfied: cycler>=0.10 in c:\\users\\administrator\\appdata\\local\\programs\\python\\python39\\lib\\site-packages (from matplotlib>=2.2->seaborn) (0.10.0)\n",
      "Requirement already satisfied: pillow>=6.2.0 in c:\\users\\administrator\\appdata\\local\\programs\\python\\python39\\lib\\site-packages (from matplotlib>=2.2->seaborn) (8.3.1)\n",
      "Requirement already satisfied: kiwisolver>=1.0.1 in c:\\users\\administrator\\appdata\\local\\programs\\python\\python39\\lib\\site-packages (from matplotlib>=2.2->seaborn) (1.3.1)\n",
      "Requirement already satisfied: pyparsing>=2.2.1 in c:\\users\\administrator\\appdata\\local\\programs\\python\\python39\\lib\\site-packages (from matplotlib>=2.2->seaborn) (2.4.7)\n",
      "Requirement already satisfied: python-dateutil>=2.7 in c:\\users\\administrator\\appdata\\local\\programs\\python\\python39\\lib\\site-packages (from matplotlib>=2.2->seaborn) (2.8.2)\n",
      "Requirement already satisfied: pytz>=2017.3 in c:\\users\\administrator\\appdata\\local\\programs\\python\\python39\\lib\\site-packages (from pandas>=0.23->seaborn) (2021.1)\n",
      "Requirement already satisfied: six in c:\\users\\administrator\\appdata\\local\\programs\\python\\python39\\lib\\site-packages (from cycler>=0.10->matplotlib>=2.2->seaborn) (1.16.0)\n",
      "Installing collected packages: seaborn\n",
      "Successfully installed seaborn-0.11.2\n"
     ]
    }
   ],
   "source": [
    "# pip install seaborn"
   ]
  },
  {
   "cell_type": "code",
   "execution_count": 1,
   "id": "6641aa62",
   "metadata": {},
   "outputs": [],
   "source": [
    "import pandas as pd\n",
    "import numpy as np\n",
    "import matplotlib.pyplot as plt\n",
    "import seaborn as sns"
   ]
  },
  {
   "cell_type": "code",
   "execution_count": 2,
   "id": "74f56231",
   "metadata": {},
   "outputs": [],
   "source": [
    "tracks = pd.read_csv('fma-rock-vs-hiphop.csv')"
   ]
  },
  {
   "cell_type": "code",
   "execution_count": 3,
   "id": "76f0cc6b",
   "metadata": {},
   "outputs": [],
   "source": [
    "echonest_metrics = pd.read_json('echonest-metrics.json')"
   ]
  },
  {
   "cell_type": "code",
   "execution_count": 4,
   "id": "b48c0469",
   "metadata": {},
   "outputs": [
    {
     "data": {
      "text/html": [
       "<div>\n",
       "<style scoped>\n",
       "    .dataframe tbody tr th:only-of-type {\n",
       "        vertical-align: middle;\n",
       "    }\n",
       "\n",
       "    .dataframe tbody tr th {\n",
       "        vertical-align: top;\n",
       "    }\n",
       "\n",
       "    .dataframe thead th {\n",
       "        text-align: right;\n",
       "    }\n",
       "</style>\n",
       "<table border=\"1\" class=\"dataframe\">\n",
       "  <thead>\n",
       "    <tr style=\"text-align: right;\">\n",
       "      <th></th>\n",
       "      <th>track_id</th>\n",
       "      <th>bit_rate</th>\n",
       "      <th>comments</th>\n",
       "      <th>composer</th>\n",
       "      <th>date_created</th>\n",
       "      <th>date_recorded</th>\n",
       "      <th>duration</th>\n",
       "      <th>favorites</th>\n",
       "      <th>genre_top</th>\n",
       "      <th>genres</th>\n",
       "      <th>...</th>\n",
       "      <th>information</th>\n",
       "      <th>interest</th>\n",
       "      <th>language_code</th>\n",
       "      <th>license</th>\n",
       "      <th>listens</th>\n",
       "      <th>lyricist</th>\n",
       "      <th>number</th>\n",
       "      <th>publisher</th>\n",
       "      <th>tags</th>\n",
       "      <th>title</th>\n",
       "    </tr>\n",
       "  </thead>\n",
       "  <tbody>\n",
       "    <tr>\n",
       "      <th>0</th>\n",
       "      <td>135</td>\n",
       "      <td>256000</td>\n",
       "      <td>1</td>\n",
       "      <td>NaN</td>\n",
       "      <td>2008-11-26 01:43:26</td>\n",
       "      <td>2008-11-26 00:00:00</td>\n",
       "      <td>837</td>\n",
       "      <td>0</td>\n",
       "      <td>Rock</td>\n",
       "      <td>[45, 58]</td>\n",
       "      <td>...</td>\n",
       "      <td>NaN</td>\n",
       "      <td>2484</td>\n",
       "      <td>en</td>\n",
       "      <td>Attribution-NonCommercial-ShareAlike 3.0 Inter...</td>\n",
       "      <td>1832</td>\n",
       "      <td>NaN</td>\n",
       "      <td>0</td>\n",
       "      <td>NaN</td>\n",
       "      <td>[]</td>\n",
       "      <td>Father's Day</td>\n",
       "    </tr>\n",
       "    <tr>\n",
       "      <th>1</th>\n",
       "      <td>136</td>\n",
       "      <td>256000</td>\n",
       "      <td>1</td>\n",
       "      <td>NaN</td>\n",
       "      <td>2008-11-26 01:43:35</td>\n",
       "      <td>2008-11-26 00:00:00</td>\n",
       "      <td>509</td>\n",
       "      <td>0</td>\n",
       "      <td>Rock</td>\n",
       "      <td>[45, 58]</td>\n",
       "      <td>...</td>\n",
       "      <td>NaN</td>\n",
       "      <td>1948</td>\n",
       "      <td>en</td>\n",
       "      <td>Attribution-NonCommercial-ShareAlike 3.0 Inter...</td>\n",
       "      <td>1498</td>\n",
       "      <td>NaN</td>\n",
       "      <td>0</td>\n",
       "      <td>NaN</td>\n",
       "      <td>[]</td>\n",
       "      <td>Peel Back The Mountain Sky</td>\n",
       "    </tr>\n",
       "    <tr>\n",
       "      <th>2</th>\n",
       "      <td>151</td>\n",
       "      <td>192000</td>\n",
       "      <td>0</td>\n",
       "      <td>NaN</td>\n",
       "      <td>2008-11-26 01:44:55</td>\n",
       "      <td>NaN</td>\n",
       "      <td>192</td>\n",
       "      <td>0</td>\n",
       "      <td>Rock</td>\n",
       "      <td>[25]</td>\n",
       "      <td>...</td>\n",
       "      <td>NaN</td>\n",
       "      <td>701</td>\n",
       "      <td>en</td>\n",
       "      <td>Attribution-NonCommercial-ShareAlike 3.0 Inter...</td>\n",
       "      <td>148</td>\n",
       "      <td>NaN</td>\n",
       "      <td>4</td>\n",
       "      <td>NaN</td>\n",
       "      <td>[]</td>\n",
       "      <td>Untitled 04</td>\n",
       "    </tr>\n",
       "    <tr>\n",
       "      <th>3</th>\n",
       "      <td>152</td>\n",
       "      <td>192000</td>\n",
       "      <td>0</td>\n",
       "      <td>NaN</td>\n",
       "      <td>2008-11-26 01:44:58</td>\n",
       "      <td>NaN</td>\n",
       "      <td>193</td>\n",
       "      <td>0</td>\n",
       "      <td>Rock</td>\n",
       "      <td>[25]</td>\n",
       "      <td>...</td>\n",
       "      <td>NaN</td>\n",
       "      <td>637</td>\n",
       "      <td>en</td>\n",
       "      <td>Attribution-NonCommercial-ShareAlike 3.0 Inter...</td>\n",
       "      <td>98</td>\n",
       "      <td>NaN</td>\n",
       "      <td>11</td>\n",
       "      <td>NaN</td>\n",
       "      <td>[]</td>\n",
       "      <td>Untitled 11</td>\n",
       "    </tr>\n",
       "    <tr>\n",
       "      <th>4</th>\n",
       "      <td>153</td>\n",
       "      <td>256000</td>\n",
       "      <td>0</td>\n",
       "      <td>Arc and Sender</td>\n",
       "      <td>2008-11-26 01:45:00</td>\n",
       "      <td>2008-11-26 00:00:00</td>\n",
       "      <td>405</td>\n",
       "      <td>5</td>\n",
       "      <td>Rock</td>\n",
       "      <td>[26]</td>\n",
       "      <td>...</td>\n",
       "      <td>NaN</td>\n",
       "      <td>354</td>\n",
       "      <td>en</td>\n",
       "      <td>Attribution-NonCommercial-NoDerivatives (aka M...</td>\n",
       "      <td>424</td>\n",
       "      <td>NaN</td>\n",
       "      <td>2</td>\n",
       "      <td>NaN</td>\n",
       "      <td>[]</td>\n",
       "      <td>Hundred-Year Flood</td>\n",
       "    </tr>\n",
       "  </tbody>\n",
       "</table>\n",
       "<p>5 rows × 21 columns</p>\n",
       "</div>"
      ],
      "text/plain": [
       "   track_id  bit_rate  comments        composer         date_created  \\\n",
       "0       135    256000         1             NaN  2008-11-26 01:43:26   \n",
       "1       136    256000         1             NaN  2008-11-26 01:43:35   \n",
       "2       151    192000         0             NaN  2008-11-26 01:44:55   \n",
       "3       152    192000         0             NaN  2008-11-26 01:44:58   \n",
       "4       153    256000         0  Arc and Sender  2008-11-26 01:45:00   \n",
       "\n",
       "         date_recorded  duration  favorites genre_top    genres  ...  \\\n",
       "0  2008-11-26 00:00:00       837          0      Rock  [45, 58]  ...   \n",
       "1  2008-11-26 00:00:00       509          0      Rock  [45, 58]  ...   \n",
       "2                  NaN       192          0      Rock      [25]  ...   \n",
       "3                  NaN       193          0      Rock      [25]  ...   \n",
       "4  2008-11-26 00:00:00       405          5      Rock      [26]  ...   \n",
       "\n",
       "  information interest  language_code  \\\n",
       "0         NaN     2484             en   \n",
       "1         NaN     1948             en   \n",
       "2         NaN      701             en   \n",
       "3         NaN      637             en   \n",
       "4         NaN      354             en   \n",
       "\n",
       "                                             license listens  lyricist number  \\\n",
       "0  Attribution-NonCommercial-ShareAlike 3.0 Inter...    1832       NaN      0   \n",
       "1  Attribution-NonCommercial-ShareAlike 3.0 Inter...    1498       NaN      0   \n",
       "2  Attribution-NonCommercial-ShareAlike 3.0 Inter...     148       NaN      4   \n",
       "3  Attribution-NonCommercial-ShareAlike 3.0 Inter...      98       NaN     11   \n",
       "4  Attribution-NonCommercial-NoDerivatives (aka M...     424       NaN      2   \n",
       "\n",
       "   publisher tags                       title  \n",
       "0        NaN   []                Father's Day  \n",
       "1        NaN   []  Peel Back The Mountain Sky  \n",
       "2        NaN   []                 Untitled 04  \n",
       "3        NaN   []                 Untitled 11  \n",
       "4        NaN   []          Hundred-Year Flood  \n",
       "\n",
       "[5 rows x 21 columns]"
      ]
     },
     "execution_count": 4,
     "metadata": {},
     "output_type": "execute_result"
    }
   ],
   "source": [
    "tracks.head()"
   ]
  },
  {
   "cell_type": "code",
   "execution_count": 5,
   "id": "48732ec2",
   "metadata": {},
   "outputs": [
    {
     "data": {
      "text/html": [
       "<div>\n",
       "<style scoped>\n",
       "    .dataframe tbody tr th:only-of-type {\n",
       "        vertical-align: middle;\n",
       "    }\n",
       "\n",
       "    .dataframe tbody tr th {\n",
       "        vertical-align: top;\n",
       "    }\n",
       "\n",
       "    .dataframe thead th {\n",
       "        text-align: right;\n",
       "    }\n",
       "</style>\n",
       "<table border=\"1\" class=\"dataframe\">\n",
       "  <thead>\n",
       "    <tr style=\"text-align: right;\">\n",
       "      <th></th>\n",
       "      <th>track_id</th>\n",
       "      <th>acousticness</th>\n",
       "      <th>danceability</th>\n",
       "      <th>energy</th>\n",
       "      <th>instrumentalness</th>\n",
       "      <th>liveness</th>\n",
       "      <th>speechiness</th>\n",
       "      <th>tempo</th>\n",
       "      <th>valence</th>\n",
       "    </tr>\n",
       "  </thead>\n",
       "  <tbody>\n",
       "    <tr>\n",
       "      <th>0</th>\n",
       "      <td>2</td>\n",
       "      <td>0.416675</td>\n",
       "      <td>0.675894</td>\n",
       "      <td>0.634476</td>\n",
       "      <td>0.010628</td>\n",
       "      <td>0.177647</td>\n",
       "      <td>0.159310</td>\n",
       "      <td>165.922</td>\n",
       "      <td>0.576661</td>\n",
       "    </tr>\n",
       "    <tr>\n",
       "      <th>1</th>\n",
       "      <td>3</td>\n",
       "      <td>0.374408</td>\n",
       "      <td>0.528643</td>\n",
       "      <td>0.817461</td>\n",
       "      <td>0.001851</td>\n",
       "      <td>0.105880</td>\n",
       "      <td>0.461818</td>\n",
       "      <td>126.957</td>\n",
       "      <td>0.269240</td>\n",
       "    </tr>\n",
       "    <tr>\n",
       "      <th>2</th>\n",
       "      <td>5</td>\n",
       "      <td>0.043567</td>\n",
       "      <td>0.745566</td>\n",
       "      <td>0.701470</td>\n",
       "      <td>0.000697</td>\n",
       "      <td>0.373143</td>\n",
       "      <td>0.124595</td>\n",
       "      <td>100.260</td>\n",
       "      <td>0.621661</td>\n",
       "    </tr>\n",
       "    <tr>\n",
       "      <th>3</th>\n",
       "      <td>10</td>\n",
       "      <td>0.951670</td>\n",
       "      <td>0.658179</td>\n",
       "      <td>0.924525</td>\n",
       "      <td>0.965427</td>\n",
       "      <td>0.115474</td>\n",
       "      <td>0.032985</td>\n",
       "      <td>111.562</td>\n",
       "      <td>0.963590</td>\n",
       "    </tr>\n",
       "    <tr>\n",
       "      <th>4</th>\n",
       "      <td>134</td>\n",
       "      <td>0.452217</td>\n",
       "      <td>0.513238</td>\n",
       "      <td>0.560410</td>\n",
       "      <td>0.019443</td>\n",
       "      <td>0.096567</td>\n",
       "      <td>0.525519</td>\n",
       "      <td>114.290</td>\n",
       "      <td>0.894072</td>\n",
       "    </tr>\n",
       "  </tbody>\n",
       "</table>\n",
       "</div>"
      ],
      "text/plain": [
       "   track_id  acousticness  danceability    energy  instrumentalness  liveness  \\\n",
       "0         2      0.416675      0.675894  0.634476          0.010628  0.177647   \n",
       "1         3      0.374408      0.528643  0.817461          0.001851  0.105880   \n",
       "2         5      0.043567      0.745566  0.701470          0.000697  0.373143   \n",
       "3        10      0.951670      0.658179  0.924525          0.965427  0.115474   \n",
       "4       134      0.452217      0.513238  0.560410          0.019443  0.096567   \n",
       "\n",
       "   speechiness    tempo   valence  \n",
       "0     0.159310  165.922  0.576661  \n",
       "1     0.461818  126.957  0.269240  \n",
       "2     0.124595  100.260  0.621661  \n",
       "3     0.032985  111.562  0.963590  \n",
       "4     0.525519  114.290  0.894072  "
      ]
     },
     "execution_count": 5,
     "metadata": {},
     "output_type": "execute_result"
    }
   ],
   "source": [
    "echonest_metrics.head()"
   ]
  },
  {
   "cell_type": "code",
   "execution_count": 6,
   "id": "a4507965",
   "metadata": {},
   "outputs": [],
   "source": [
    "echo_tracks = pd.merge(echonest_metrics, tracks[[\"track_id\", \"genre_top\"]], on=\"track_id\")"
   ]
  },
  {
   "cell_type": "code",
   "execution_count": 7,
   "id": "7efd9164",
   "metadata": {},
   "outputs": [
    {
     "data": {
      "text/html": [
       "<div>\n",
       "<style scoped>\n",
       "    .dataframe tbody tr th:only-of-type {\n",
       "        vertical-align: middle;\n",
       "    }\n",
       "\n",
       "    .dataframe tbody tr th {\n",
       "        vertical-align: top;\n",
       "    }\n",
       "\n",
       "    .dataframe thead th {\n",
       "        text-align: right;\n",
       "    }\n",
       "</style>\n",
       "<table border=\"1\" class=\"dataframe\">\n",
       "  <thead>\n",
       "    <tr style=\"text-align: right;\">\n",
       "      <th></th>\n",
       "      <th>track_id</th>\n",
       "      <th>acousticness</th>\n",
       "      <th>danceability</th>\n",
       "      <th>energy</th>\n",
       "      <th>instrumentalness</th>\n",
       "      <th>liveness</th>\n",
       "      <th>speechiness</th>\n",
       "      <th>tempo</th>\n",
       "      <th>valence</th>\n",
       "      <th>genre_top</th>\n",
       "    </tr>\n",
       "  </thead>\n",
       "  <tbody>\n",
       "    <tr>\n",
       "      <th>0</th>\n",
       "      <td>2</td>\n",
       "      <td>0.416675</td>\n",
       "      <td>0.675894</td>\n",
       "      <td>0.634476</td>\n",
       "      <td>0.010628</td>\n",
       "      <td>0.177647</td>\n",
       "      <td>0.159310</td>\n",
       "      <td>165.922</td>\n",
       "      <td>0.576661</td>\n",
       "      <td>Hip-Hop</td>\n",
       "    </tr>\n",
       "    <tr>\n",
       "      <th>1</th>\n",
       "      <td>3</td>\n",
       "      <td>0.374408</td>\n",
       "      <td>0.528643</td>\n",
       "      <td>0.817461</td>\n",
       "      <td>0.001851</td>\n",
       "      <td>0.105880</td>\n",
       "      <td>0.461818</td>\n",
       "      <td>126.957</td>\n",
       "      <td>0.269240</td>\n",
       "      <td>Hip-Hop</td>\n",
       "    </tr>\n",
       "    <tr>\n",
       "      <th>2</th>\n",
       "      <td>5</td>\n",
       "      <td>0.043567</td>\n",
       "      <td>0.745566</td>\n",
       "      <td>0.701470</td>\n",
       "      <td>0.000697</td>\n",
       "      <td>0.373143</td>\n",
       "      <td>0.124595</td>\n",
       "      <td>100.260</td>\n",
       "      <td>0.621661</td>\n",
       "      <td>Hip-Hop</td>\n",
       "    </tr>\n",
       "    <tr>\n",
       "      <th>3</th>\n",
       "      <td>134</td>\n",
       "      <td>0.452217</td>\n",
       "      <td>0.513238</td>\n",
       "      <td>0.560410</td>\n",
       "      <td>0.019443</td>\n",
       "      <td>0.096567</td>\n",
       "      <td>0.525519</td>\n",
       "      <td>114.290</td>\n",
       "      <td>0.894072</td>\n",
       "      <td>Hip-Hop</td>\n",
       "    </tr>\n",
       "    <tr>\n",
       "      <th>4</th>\n",
       "      <td>153</td>\n",
       "      <td>0.988306</td>\n",
       "      <td>0.255661</td>\n",
       "      <td>0.979774</td>\n",
       "      <td>0.973006</td>\n",
       "      <td>0.121342</td>\n",
       "      <td>0.051740</td>\n",
       "      <td>90.241</td>\n",
       "      <td>0.034018</td>\n",
       "      <td>Rock</td>\n",
       "    </tr>\n",
       "  </tbody>\n",
       "</table>\n",
       "</div>"
      ],
      "text/plain": [
       "   track_id  acousticness  danceability    energy  instrumentalness  liveness  \\\n",
       "0         2      0.416675      0.675894  0.634476          0.010628  0.177647   \n",
       "1         3      0.374408      0.528643  0.817461          0.001851  0.105880   \n",
       "2         5      0.043567      0.745566  0.701470          0.000697  0.373143   \n",
       "3       134      0.452217      0.513238  0.560410          0.019443  0.096567   \n",
       "4       153      0.988306      0.255661  0.979774          0.973006  0.121342   \n",
       "\n",
       "   speechiness    tempo   valence genre_top  \n",
       "0     0.159310  165.922  0.576661   Hip-Hop  \n",
       "1     0.461818  126.957  0.269240   Hip-Hop  \n",
       "2     0.124595  100.260  0.621661   Hip-Hop  \n",
       "3     0.525519  114.290  0.894072   Hip-Hop  \n",
       "4     0.051740   90.241  0.034018      Rock  "
      ]
     },
     "execution_count": 7,
     "metadata": {},
     "output_type": "execute_result"
    }
   ],
   "source": [
    "echo_tracks.head()"
   ]
  },
  {
   "cell_type": "code",
   "execution_count": 8,
   "id": "dcfac38f-26fa-48d5-aa2e-368ab358cf33",
   "metadata": {},
   "outputs": [
    {
     "data": {
      "text/plain": [
       "2"
      ]
     },
     "execution_count": 8,
     "metadata": {},
     "output_type": "execute_result"
    }
   ],
   "source": [
    "echo_tracks['genre_top'].nunique()"
   ]
  },
  {
   "cell_type": "code",
   "execution_count": 9,
   "id": "a2e686f3",
   "metadata": {},
   "outputs": [
    {
     "data": {
      "text/plain": [
       "Rock       3892\n",
       "Hip-Hop     910\n",
       "Name: genre_top, dtype: int64"
      ]
     },
     "execution_count": 9,
     "metadata": {},
     "output_type": "execute_result"
    }
   ],
   "source": [
    "echo_tracks['genre_top'].value_counts()"
   ]
  },
  {
   "cell_type": "code",
   "execution_count": 10,
   "id": "7730ba98",
   "metadata": {},
   "outputs": [
    {
     "name": "stdout",
     "output_type": "stream",
     "text": [
      "<class 'pandas.core.frame.DataFrame'>\n",
      "Int64Index: 4802 entries, 0 to 4801\n",
      "Data columns (total 10 columns):\n",
      " #   Column            Non-Null Count  Dtype  \n",
      "---  ------            --------------  -----  \n",
      " 0   track_id          4802 non-null   int64  \n",
      " 1   acousticness      4802 non-null   float64\n",
      " 2   danceability      4802 non-null   float64\n",
      " 3   energy            4802 non-null   float64\n",
      " 4   instrumentalness  4802 non-null   float64\n",
      " 5   liveness          4802 non-null   float64\n",
      " 6   speechiness       4802 non-null   float64\n",
      " 7   tempo             4802 non-null   float64\n",
      " 8   valence           4802 non-null   float64\n",
      " 9   genre_top         4802 non-null   object \n",
      "dtypes: float64(8), int64(1), object(1)\n",
      "memory usage: 412.7+ KB\n"
     ]
    }
   ],
   "source": [
    "echo_tracks.info()"
   ]
  },
  {
   "cell_type": "code",
   "execution_count": 11,
   "id": "13085823-9f7e-41e0-92e7-7df2adc80cb4",
   "metadata": {},
   "outputs": [
    {
     "data": {
      "text/plain": [
       "track_id            0\n",
       "acousticness        0\n",
       "danceability        0\n",
       "energy              0\n",
       "instrumentalness    0\n",
       "liveness            0\n",
       "speechiness         0\n",
       "tempo               0\n",
       "valence             0\n",
       "genre_top           0\n",
       "dtype: int64"
      ]
     },
     "execution_count": 11,
     "metadata": {},
     "output_type": "execute_result"
    }
   ],
   "source": [
    "echo_tracks.isnull().sum()"
   ]
  },
  {
   "cell_type": "code",
   "execution_count": 12,
   "id": "a2f0d25d",
   "metadata": {},
   "outputs": [],
   "source": [
    "echo_tracks_copy = echo_tracks.copy()"
   ]
  },
  {
   "cell_type": "code",
   "execution_count": 13,
   "id": "2f2d252f",
   "metadata": {},
   "outputs": [],
   "source": [
    "# echo_tracks_copy.loc[echo_tracks_copy['genre_top']=='Rock', 'genre_top'] = 1\n",
    "echo_tracks_copy['genre_top'] = echo_tracks_copy['genre_top'].map( {'Hip-Hop': 0, 'Rock': 1}).astype(int)"
   ]
  },
  {
   "cell_type": "code",
   "execution_count": 14,
   "id": "bc72dbb7",
   "metadata": {},
   "outputs": [
    {
     "data": {
      "text/plain": [
       "1    3892\n",
       "0     910\n",
       "Name: genre_top, dtype: int64"
      ]
     },
     "execution_count": 14,
     "metadata": {},
     "output_type": "execute_result"
    }
   ],
   "source": [
    "echo_tracks_copy['genre_top'].value_counts()"
   ]
  },
  {
   "cell_type": "code",
   "execution_count": 15,
   "id": "edead8f9",
   "metadata": {},
   "outputs": [
    {
     "data": {
      "text/html": [
       "<div>\n",
       "<style scoped>\n",
       "    .dataframe tbody tr th:only-of-type {\n",
       "        vertical-align: middle;\n",
       "    }\n",
       "\n",
       "    .dataframe tbody tr th {\n",
       "        vertical-align: top;\n",
       "    }\n",
       "\n",
       "    .dataframe thead th {\n",
       "        text-align: right;\n",
       "    }\n",
       "</style>\n",
       "<table border=\"1\" class=\"dataframe\">\n",
       "  <thead>\n",
       "    <tr style=\"text-align: right;\">\n",
       "      <th></th>\n",
       "      <th>track_id</th>\n",
       "      <th>acousticness</th>\n",
       "      <th>danceability</th>\n",
       "      <th>energy</th>\n",
       "      <th>instrumentalness</th>\n",
       "      <th>liveness</th>\n",
       "      <th>speechiness</th>\n",
       "      <th>tempo</th>\n",
       "      <th>valence</th>\n",
       "      <th>genre_top</th>\n",
       "    </tr>\n",
       "  </thead>\n",
       "  <tbody>\n",
       "    <tr>\n",
       "      <th>0</th>\n",
       "      <td>2</td>\n",
       "      <td>0.416675</td>\n",
       "      <td>0.675894</td>\n",
       "      <td>0.634476</td>\n",
       "      <td>0.010628</td>\n",
       "      <td>0.177647</td>\n",
       "      <td>0.159310</td>\n",
       "      <td>165.922</td>\n",
       "      <td>0.576661</td>\n",
       "      <td>0</td>\n",
       "    </tr>\n",
       "    <tr>\n",
       "      <th>1</th>\n",
       "      <td>3</td>\n",
       "      <td>0.374408</td>\n",
       "      <td>0.528643</td>\n",
       "      <td>0.817461</td>\n",
       "      <td>0.001851</td>\n",
       "      <td>0.105880</td>\n",
       "      <td>0.461818</td>\n",
       "      <td>126.957</td>\n",
       "      <td>0.269240</td>\n",
       "      <td>0</td>\n",
       "    </tr>\n",
       "    <tr>\n",
       "      <th>2</th>\n",
       "      <td>5</td>\n",
       "      <td>0.043567</td>\n",
       "      <td>0.745566</td>\n",
       "      <td>0.701470</td>\n",
       "      <td>0.000697</td>\n",
       "      <td>0.373143</td>\n",
       "      <td>0.124595</td>\n",
       "      <td>100.260</td>\n",
       "      <td>0.621661</td>\n",
       "      <td>0</td>\n",
       "    </tr>\n",
       "    <tr>\n",
       "      <th>3</th>\n",
       "      <td>134</td>\n",
       "      <td>0.452217</td>\n",
       "      <td>0.513238</td>\n",
       "      <td>0.560410</td>\n",
       "      <td>0.019443</td>\n",
       "      <td>0.096567</td>\n",
       "      <td>0.525519</td>\n",
       "      <td>114.290</td>\n",
       "      <td>0.894072</td>\n",
       "      <td>0</td>\n",
       "    </tr>\n",
       "    <tr>\n",
       "      <th>4</th>\n",
       "      <td>153</td>\n",
       "      <td>0.988306</td>\n",
       "      <td>0.255661</td>\n",
       "      <td>0.979774</td>\n",
       "      <td>0.973006</td>\n",
       "      <td>0.121342</td>\n",
       "      <td>0.051740</td>\n",
       "      <td>90.241</td>\n",
       "      <td>0.034018</td>\n",
       "      <td>1</td>\n",
       "    </tr>\n",
       "  </tbody>\n",
       "</table>\n",
       "</div>"
      ],
      "text/plain": [
       "   track_id  acousticness  danceability    energy  instrumentalness  liveness  \\\n",
       "0         2      0.416675      0.675894  0.634476          0.010628  0.177647   \n",
       "1         3      0.374408      0.528643  0.817461          0.001851  0.105880   \n",
       "2         5      0.043567      0.745566  0.701470          0.000697  0.373143   \n",
       "3       134      0.452217      0.513238  0.560410          0.019443  0.096567   \n",
       "4       153      0.988306      0.255661  0.979774          0.973006  0.121342   \n",
       "\n",
       "   speechiness    tempo   valence  genre_top  \n",
       "0     0.159310  165.922  0.576661          0  \n",
       "1     0.461818  126.957  0.269240          0  \n",
       "2     0.124595  100.260  0.621661          0  \n",
       "3     0.525519  114.290  0.894072          0  \n",
       "4     0.051740   90.241  0.034018          1  "
      ]
     },
     "execution_count": 15,
     "metadata": {},
     "output_type": "execute_result"
    }
   ],
   "source": [
    "echo_tracks_copy.head()"
   ]
  },
  {
   "cell_type": "markdown",
   "id": "66af7e59",
   "metadata": {},
   "source": [
    "# Log-Transformation for right skewed columns"
   ]
  },
  {
   "cell_type": "code",
   "execution_count": 16,
   "id": "74a5a354",
   "metadata": {},
   "outputs": [],
   "source": [
    "echo_tracks_copy['speechiness'] = echo_tracks_copy['speechiness'].apply(np.log)"
   ]
  },
  {
   "cell_type": "markdown",
   "id": "a4a00610-56d4-46d8-b746-9ccbeeee1e7f",
   "metadata": {},
   "source": [
    "# Correlation between features"
   ]
  },
  {
   "cell_type": "code",
   "execution_count": 17,
   "id": "2be7ceb6",
   "metadata": {},
   "outputs": [
    {
     "data": {
      "text/html": [
       "<div>\n",
       "<style scoped>\n",
       "    .dataframe tbody tr th:only-of-type {\n",
       "        vertical-align: middle;\n",
       "    }\n",
       "\n",
       "    .dataframe tbody tr th {\n",
       "        vertical-align: top;\n",
       "    }\n",
       "\n",
       "    .dataframe thead th {\n",
       "        text-align: right;\n",
       "    }\n",
       "</style>\n",
       "<table border=\"1\" class=\"dataframe\">\n",
       "  <thead>\n",
       "    <tr style=\"text-align: right;\">\n",
       "      <th></th>\n",
       "      <th>track_id</th>\n",
       "      <th>acousticness</th>\n",
       "      <th>danceability</th>\n",
       "      <th>energy</th>\n",
       "      <th>instrumentalness</th>\n",
       "      <th>liveness</th>\n",
       "      <th>speechiness</th>\n",
       "      <th>tempo</th>\n",
       "      <th>valence</th>\n",
       "    </tr>\n",
       "  </thead>\n",
       "  <tbody>\n",
       "    <tr>\n",
       "      <th>track_id</th>\n",
       "      <td>1.000000</td>\n",
       "      <td>-0.372282</td>\n",
       "      <td>0.049454</td>\n",
       "      <td>0.140703</td>\n",
       "      <td>-0.275623</td>\n",
       "      <td>0.048231</td>\n",
       "      <td>-0.026995</td>\n",
       "      <td>-0.025392</td>\n",
       "      <td>0.010070</td>\n",
       "    </tr>\n",
       "    <tr>\n",
       "      <th>acousticness</th>\n",
       "      <td>-0.372282</td>\n",
       "      <td>1.000000</td>\n",
       "      <td>-0.028954</td>\n",
       "      <td>-0.281619</td>\n",
       "      <td>0.194780</td>\n",
       "      <td>-0.019991</td>\n",
       "      <td>0.072204</td>\n",
       "      <td>-0.026310</td>\n",
       "      <td>-0.013841</td>\n",
       "    </tr>\n",
       "    <tr>\n",
       "      <th>danceability</th>\n",
       "      <td>0.049454</td>\n",
       "      <td>-0.028954</td>\n",
       "      <td>1.000000</td>\n",
       "      <td>-0.242032</td>\n",
       "      <td>-0.255217</td>\n",
       "      <td>-0.106584</td>\n",
       "      <td>0.276206</td>\n",
       "      <td>-0.242089</td>\n",
       "      <td>0.473165</td>\n",
       "    </tr>\n",
       "    <tr>\n",
       "      <th>energy</th>\n",
       "      <td>0.140703</td>\n",
       "      <td>-0.281619</td>\n",
       "      <td>-0.242032</td>\n",
       "      <td>1.000000</td>\n",
       "      <td>0.028238</td>\n",
       "      <td>0.113331</td>\n",
       "      <td>-0.109983</td>\n",
       "      <td>0.195227</td>\n",
       "      <td>0.038603</td>\n",
       "    </tr>\n",
       "    <tr>\n",
       "      <th>instrumentalness</th>\n",
       "      <td>-0.275623</td>\n",
       "      <td>0.194780</td>\n",
       "      <td>-0.255217</td>\n",
       "      <td>0.028238</td>\n",
       "      <td>1.000000</td>\n",
       "      <td>-0.091022</td>\n",
       "      <td>-0.366762</td>\n",
       "      <td>0.022215</td>\n",
       "      <td>-0.219967</td>\n",
       "    </tr>\n",
       "    <tr>\n",
       "      <th>liveness</th>\n",
       "      <td>0.048231</td>\n",
       "      <td>-0.019991</td>\n",
       "      <td>-0.106584</td>\n",
       "      <td>0.113331</td>\n",
       "      <td>-0.091022</td>\n",
       "      <td>1.000000</td>\n",
       "      <td>0.041173</td>\n",
       "      <td>0.002732</td>\n",
       "      <td>-0.045093</td>\n",
       "    </tr>\n",
       "    <tr>\n",
       "      <th>speechiness</th>\n",
       "      <td>-0.026995</td>\n",
       "      <td>0.072204</td>\n",
       "      <td>0.276206</td>\n",
       "      <td>-0.109983</td>\n",
       "      <td>-0.366762</td>\n",
       "      <td>0.041173</td>\n",
       "      <td>1.000000</td>\n",
       "      <td>0.008241</td>\n",
       "      <td>0.149894</td>\n",
       "    </tr>\n",
       "    <tr>\n",
       "      <th>tempo</th>\n",
       "      <td>-0.025392</td>\n",
       "      <td>-0.026310</td>\n",
       "      <td>-0.242089</td>\n",
       "      <td>0.195227</td>\n",
       "      <td>0.022215</td>\n",
       "      <td>0.002732</td>\n",
       "      <td>0.008241</td>\n",
       "      <td>1.000000</td>\n",
       "      <td>0.052221</td>\n",
       "    </tr>\n",
       "    <tr>\n",
       "      <th>valence</th>\n",
       "      <td>0.010070</td>\n",
       "      <td>-0.013841</td>\n",
       "      <td>0.473165</td>\n",
       "      <td>0.038603</td>\n",
       "      <td>-0.219967</td>\n",
       "      <td>-0.045093</td>\n",
       "      <td>0.149894</td>\n",
       "      <td>0.052221</td>\n",
       "      <td>1.000000</td>\n",
       "    </tr>\n",
       "  </tbody>\n",
       "</table>\n",
       "</div>"
      ],
      "text/plain": [
       "                  track_id  acousticness  danceability    energy  \\\n",
       "track_id          1.000000     -0.372282      0.049454  0.140703   \n",
       "acousticness     -0.372282      1.000000     -0.028954 -0.281619   \n",
       "danceability      0.049454     -0.028954      1.000000 -0.242032   \n",
       "energy            0.140703     -0.281619     -0.242032  1.000000   \n",
       "instrumentalness -0.275623      0.194780     -0.255217  0.028238   \n",
       "liveness          0.048231     -0.019991     -0.106584  0.113331   \n",
       "speechiness      -0.026995      0.072204      0.276206 -0.109983   \n",
       "tempo            -0.025392     -0.026310     -0.242089  0.195227   \n",
       "valence           0.010070     -0.013841      0.473165  0.038603   \n",
       "\n",
       "                  instrumentalness  liveness  speechiness     tempo   valence  \n",
       "track_id                 -0.275623  0.048231    -0.026995 -0.025392  0.010070  \n",
       "acousticness              0.194780 -0.019991     0.072204 -0.026310 -0.013841  \n",
       "danceability             -0.255217 -0.106584     0.276206 -0.242089  0.473165  \n",
       "energy                    0.028238  0.113331    -0.109983  0.195227  0.038603  \n",
       "instrumentalness          1.000000 -0.091022    -0.366762  0.022215 -0.219967  \n",
       "liveness                 -0.091022  1.000000     0.041173  0.002732 -0.045093  \n",
       "speechiness              -0.366762  0.041173     1.000000  0.008241  0.149894  \n",
       "tempo                     0.022215  0.002732     0.008241  1.000000  0.052221  \n",
       "valence                  -0.219967 -0.045093     0.149894  0.052221  1.000000  "
      ]
     },
     "execution_count": 17,
     "metadata": {},
     "output_type": "execute_result"
    }
   ],
   "source": [
    "echo_tracks.corr()"
   ]
  },
  {
   "cell_type": "code",
   "execution_count": 18,
   "id": "18fe0d76",
   "metadata": {},
   "outputs": [
    {
     "data": {
      "text/plain": [
       "track_id           -0.004624\n",
       "acousticness        0.097748\n",
       "danceability       -0.484457\n",
       "energy              0.124860\n",
       "instrumentalness    0.326037\n",
       "liveness           -0.007070\n",
       "speechiness        -0.575005\n",
       "tempo               0.114571\n",
       "valence            -0.246701\n",
       "genre_top           1.000000\n",
       "dtype: float64"
      ]
     },
     "execution_count": 18,
     "metadata": {},
     "output_type": "execute_result"
    }
   ],
   "source": [
    "echo_tracks_copy.corrwith(echo_tracks_copy['genre_top'])"
   ]
  },
  {
   "cell_type": "markdown",
   "id": "0307b1e0-9ca0-4de3-93eb-00fff3fefcbf",
   "metadata": {},
   "source": []
  },
  {
   "cell_type": "code",
   "execution_count": 19,
   "id": "7714d552",
   "metadata": {},
   "outputs": [],
   "source": [
    "features = echo_tracks_copy.drop([\"genre_top\",\"track_id\", \"liveness\"], axis=1).values\n",
    "labels = echo_tracks_copy[\"genre_top\"].values"
   ]
  },
  {
   "cell_type": "markdown",
   "id": "b6c40dc5-5885-40f7-a25b-2c0d24595b4d",
   "metadata": {},
   "source": [
    "# Train Test Split"
   ]
  },
  {
   "cell_type": "code",
   "execution_count": 21,
   "id": "750eade5",
   "metadata": {},
   "outputs": [],
   "source": [
    "from sklearn.model_selection import train_test_split\n",
    "\n",
    "train_features, test_features, train_labels, test_labels = train_test_split(features,\n",
    "                                                                            labels, \n",
    "                                                                            stratify=labels, \n",
    "                                                                            random_state = 42)"
   ]
  },
  {
   "cell_type": "code",
   "execution_count": 22,
   "id": "773f4530-813a-481e-8b86-47859e41a567",
   "metadata": {},
   "outputs": [
    {
     "data": {
      "text/plain": [
       "((3601, 7), (1201, 7))"
      ]
     },
     "execution_count": 22,
     "metadata": {},
     "output_type": "execute_result"
    }
   ],
   "source": [
    "train_features.shape, test_features.shape"
   ]
  },
  {
   "cell_type": "code",
   "execution_count": 23,
   "id": "5950f83a-861e-4af6-b16a-60920e5c7165",
   "metadata": {},
   "outputs": [],
   "source": [
    "# checking if proportion of both classes are same in train and test data\n",
    "# print(len([i for i in test_labels if i=='Hip-Hop'])/len([i for i in test_labels if i=='Rock']))\n",
    "# print(len([i for i in train_labels if i=='Hip-Hop'])/len([i for i in train_labels if i=='Rock']))"
   ]
  },
  {
   "cell_type": "code",
   "execution_count": 24,
   "id": "b7b10f8d",
   "metadata": {},
   "outputs": [
    {
     "name": "stdout",
     "output_type": "stream",
     "text": [
      "0.8106081643987781\n",
      "0.8101582014987511\n"
     ]
    }
   ],
   "source": [
    "# checking if proportion of both classes are same in train and test data\n",
    "print(sum(train_labels)/len(train_labels))\n",
    "print(sum(test_labels)/len(test_labels))"
   ]
  },
  {
   "cell_type": "markdown",
   "id": "b08227dc-526a-44a7-9686-4452b2efef40",
   "metadata": {},
   "source": [
    "# Normalizing "
   ]
  },
  {
   "cell_type": "code",
   "execution_count": 25,
   "id": "8c351a55",
   "metadata": {},
   "outputs": [],
   "source": [
    "from sklearn.preprocessing import StandardScaler\n",
    "\n",
    "scaler = StandardScaler()\n",
    "\n",
    "scaled_train_features = scaler.fit_transform(train_features)\n",
    "scaled_test_features = scaler.transform(test_features)"
   ]
  },
  {
   "cell_type": "code",
   "execution_count": 26,
   "id": "65811707-b201-4045-811b-8b92e35a38af",
   "metadata": {},
   "outputs": [
    {
     "data": {
      "text/plain": [
       "((3601, 7), (1201, 7))"
      ]
     },
     "execution_count": 26,
     "metadata": {},
     "output_type": "execute_result"
    }
   ],
   "source": [
    "scaled_train_features.shape, scaled_test_features.shape"
   ]
  },
  {
   "cell_type": "code",
   "execution_count": 27,
   "id": "b5becc4a",
   "metadata": {},
   "outputs": [
    {
     "name": "stderr",
     "output_type": "stream",
     "text": [
      "C:\\Users\\Administrator\\anaconda3\\lib\\site-packages\\seaborn\\distributions.py:2557: FutureWarning: `distplot` is a deprecated function and will be removed in a future version. Please adapt your code to use either `displot` (a figure-level function with similar flexibility) or `histplot` (an axes-level function for histograms).\n",
      "  warnings.warn(msg, FutureWarning)\n",
      "C:\\Users\\Administrator\\anaconda3\\lib\\site-packages\\seaborn\\distributions.py:2557: FutureWarning: `distplot` is a deprecated function and will be removed in a future version. Please adapt your code to use either `displot` (a figure-level function with similar flexibility) or `histplot` (an axes-level function for histograms).\n",
      "  warnings.warn(msg, FutureWarning)\n",
      "C:\\Users\\Administrator\\anaconda3\\lib\\site-packages\\seaborn\\distributions.py:2557: FutureWarning: `distplot` is a deprecated function and will be removed in a future version. Please adapt your code to use either `displot` (a figure-level function with similar flexibility) or `histplot` (an axes-level function for histograms).\n",
      "  warnings.warn(msg, FutureWarning)\n",
      "C:\\Users\\Administrator\\anaconda3\\lib\\site-packages\\seaborn\\distributions.py:2557: FutureWarning: `distplot` is a deprecated function and will be removed in a future version. Please adapt your code to use either `displot` (a figure-level function with similar flexibility) or `histplot` (an axes-level function for histograms).\n",
      "  warnings.warn(msg, FutureWarning)\n",
      "C:\\Users\\Administrator\\anaconda3\\lib\\site-packages\\seaborn\\distributions.py:2557: FutureWarning: `distplot` is a deprecated function and will be removed in a future version. Please adapt your code to use either `displot` (a figure-level function with similar flexibility) or `histplot` (an axes-level function for histograms).\n",
      "  warnings.warn(msg, FutureWarning)\n",
      "C:\\Users\\Administrator\\anaconda3\\lib\\site-packages\\seaborn\\distributions.py:2557: FutureWarning: `distplot` is a deprecated function and will be removed in a future version. Please adapt your code to use either `displot` (a figure-level function with similar flexibility) or `histplot` (an axes-level function for histograms).\n",
      "  warnings.warn(msg, FutureWarning)\n",
      "C:\\Users\\Administrator\\anaconda3\\lib\\site-packages\\seaborn\\distributions.py:2557: FutureWarning: `distplot` is a deprecated function and will be removed in a future version. Please adapt your code to use either `displot` (a figure-level function with similar flexibility) or `histplot` (an axes-level function for histograms).\n",
      "  warnings.warn(msg, FutureWarning)\n"
     ]
    },
    {
     "data": {
      "image/png": "[encoded data removed]",
      "text/plain": [
       "<Figure size 1080x360 with 8 Axes>"
      ]
     },
     "metadata": {
      "needs_background": "light"
     },
     "output_type": "display_data"
    }
   ],
   "source": [
    "fig, ax = plt.subplots(2, 4, figsize=(15, 5))\n",
    "sns.distplot(scaled_train_features[:, 0], ax=ax[0, 0])\n",
    "sns.distplot(scaled_train_features[:, 1], ax=ax[0, 1])\n",
    "sns.distplot(scaled_train_features[:, 2], ax=ax[0, 2])\n",
    "sns.distplot(scaled_train_features[:, 3], ax=ax[0, 3])\n",
    "sns.distplot(scaled_train_features[:, 4], ax=ax[1, 0])\n",
    "sns.distplot(scaled_train_features[:, 5], ax=ax[1, 1])\n",
    "sns.distplot(scaled_train_features[:, 6], ax=ax[1, 2])\n",
    "plt.show()"
   ]
  },
  {
   "cell_type": "markdown",
   "id": "20f1829d-57de-42b0-8f55-9ac27a9ef2a0",
   "metadata": {},
   "source": [
    "# Applying Logistic Regression"
   ]
  },
  {
   "cell_type": "code",
   "execution_count": 28,
   "id": "39cd6638-5c19-4b56-93ed-edb93150a4ea",
   "metadata": {},
   "outputs": [],
   "source": [
    "from sklearn.metrics import accuracy_score, f1_score"
   ]
  },
  {
   "cell_type": "code",
   "execution_count": 83,
   "id": "73385351-366d-4a81-9efb-f53d77dd7b9b",
   "metadata": {},
   "outputs": [],
   "source": [
    "from sklearn.linear_model import LogisticRegression\n",
    "model = LogisticRegression(random_state=42)\n",
    "model.fit(scaled_train_features, train_labels)\n",
    "predicted = model.predict(scaled_test_features)\n",
    "y_pred = (model.predict_proba(scaled_test_features)[:, 1] >= 0.54).astype(bool)"
   ]
  },
  {
   "cell_type": "code",
   "execution_count": 84,
   "id": "1a7f0d4f-d1da-41b0-b1a3-4329ed5b2a26",
   "metadata": {},
   "outputs": [
    {
     "data": {
      "text/plain": [
       "(0.8967527060782681, 0.9373737373737373)"
      ]
     },
     "execution_count": 84,
     "metadata": {},
     "output_type": "execute_result"
    }
   ],
   "source": [
    "accuracy_score(test_labels, predicted), f1_score(test_labels, predicted)"
   ]
  },
  {
   "cell_type": "code",
   "execution_count": 85,
   "id": "bd4b3d37",
   "metadata": {},
   "outputs": [
    {
     "data": {
      "text/plain": [
       "((1201,), (1201, 2))"
      ]
     },
     "execution_count": 85,
     "metadata": {},
     "output_type": "execute_result"
    }
   ],
   "source": [
    "predicted.shape, predicted_proba.shape"
   ]
  },
  {
   "cell_type": "code",
   "execution_count": 86,
   "id": "55eef2b9",
   "metadata": {},
   "outputs": [
    {
     "name": "stdout",
     "output_type": "stream",
     "text": [
      "0.8975853455453788\n",
      "0.8984179850124896\n",
      "0.8975853455453788\n",
      "0.8959200666111574\n",
      "0.8975853455453788\n",
      "0.8984179850124896\n",
      "0.8942547876769359\n"
     ]
    }
   ],
   "source": [
    "for i in [0.52, 0.54, 0.56, 0.58, 0.6, 0.62, 0.64]:\n",
    "    y_pred = (model.predict_proba(scaled_test_features)[:, 1] >= i).astype(bool)\n",
    "    print(accuracy_score(test_labels, y_pred))"
   ]
  },
  {
   "cell_type": "markdown",
   "id": "9a5e9408-89df-43b5-9979-f1cf0360e274",
   "metadata": {},
   "source": [
    "# Applying Decision Tree"
   ]
  },
  {
   "cell_type": "code",
   "execution_count": 37,
   "id": "009a4eb4-128e-4f43-a019-d6d58f0feb04",
   "metadata": {},
   "outputs": [],
   "source": [
    "from sklearn.tree import DecisionTreeClassifier\n",
    "tree_clf = DecisionTreeClassifier(criterion=\"gini\")\n",
    "tree_clf.fit(scaled_train_features, train_labels)\n",
    "predicted = tree_clf.predict(scaled_test_features)"
   ]
  },
  {
   "cell_type": "code",
   "execution_count": 38,
   "id": "a5eb91a3-40d5-4821-93dc-d1539de5cfeb",
   "metadata": {},
   "outputs": [
    {
     "data": {
      "text/plain": [
       "(0.8759367194004996, 0.923235445646574)"
      ]
     },
     "execution_count": 38,
     "metadata": {},
     "output_type": "execute_result"
    }
   ],
   "source": [
    "accuracy_score(test_labels, predicted), f1_score(test_labels, predicted)"
   ]
  },
  {
   "cell_type": "code",
   "execution_count": 45,
   "id": "7cb6464c",
   "metadata": {},
   "outputs": [
    {
     "data": {
      "image/png": "[encoded data removed]",
      "text/plain": [
       "<Figure size 720x360 with 1 Axes>"
      ]
     },
     "metadata": {
      "needs_background": "light"
     },
     "output_type": "display_data"
    }
   ],
   "source": [
    "train_scores = []\n",
    "test_scores = []\n",
    "for i in range(1, tree_clf.get_depth()+1):\n",
    "    model = DecisionTreeClassifier(random_state=42, max_depth=i).fit(scaled_train_features, train_labels)\n",
    "    \n",
    "    y_pred_train = model.predict(scaled_train_features)\n",
    "    train_scores.append(accuracy_score(y_pred_train, train_labels))\n",
    "  \n",
    "    y_pred = model.predict(scaled_test_features)\n",
    "    test_scores.append(accuracy_score(test_labels, y_pred))\n",
    "\n",
    "max_test_score = np.argmax(test_scores) + 1\n",
    "# Plot of depth vs accuracy\n",
    "depth = tree_clf.get_depth()\n",
    "plt.figure(figsize = (10,5))    \n",
    "plt.plot(np.arange(1, depth+1, 1), train_scores, marker = 'o', label = 'Training')\n",
    "plt.plot(np.arange(1, depth+1, 1), test_scores, marker = 'o', label = \"Testing\")\n",
    "plt.plot([max_test_score,max_test_score], [0.7, 1.0], '--', color = 'black', alpha = 0.5)\n",
    "plt.xlabel(\"Depth/complexity\", fontsize = 17)\n",
    "plt.ylabel(\"accuracy Score\", fontsize = 17)\n",
    "plt.title(\"accuracy Score for different depth of decision tree\", fontsize = 17)\n",
    "plt.xticks(np.arange(1, depth+1, 1)) \n",
    "plt.yticks(np.arange(0.7, 1.05, 0.05))\n",
    "plt.legend(fontsize = 17)\n",
    "plt.show()"
   ]
  },
  {
   "cell_type": "code",
   "execution_count": 46,
   "id": "57e3e61a",
   "metadata": {},
   "outputs": [],
   "source": [
    "tree_model = DecisionTreeClassifier(max_depth=4, random_state=42)\n",
    "tree_model.fit(scaled_train_features, train_labels)\n",
    "prediction = tree_model.predict(scaled_test_features)"
   ]
  },
  {
   "cell_type": "code",
   "execution_count": 47,
   "id": "2af23f06",
   "metadata": {},
   "outputs": [
    {
     "data": {
      "text/plain": [
       "(0.88759367194005, 0.9304482225656878)"
      ]
     },
     "execution_count": 47,
     "metadata": {},
     "output_type": "execute_result"
    }
   ],
   "source": [
    "accuracy_score(test_labels, prediction), f1_score(test_labels, prediction)"
   ]
  },
  {
   "cell_type": "code",
   "execution_count": 48,
   "id": "d6b4cfc8",
   "metadata": {},
   "outputs": [
    {
     "data": {
      "text/plain": [
       "144"
      ]
     },
     "execution_count": 48,
     "metadata": {},
     "output_type": "execute_result"
    }
   ],
   "source": [
    "path = tree_clf.cost_complexity_pruning_path(scaled_train_features, train_labels)\n",
    "ccp_alphas, impurities = path.ccp_alphas, path.impurities\n",
    "ccp_alphas = sorted(ccp_alphas)\n",
    "len(ccp_alphas)"
   ]
  },
  {
   "cell_type": "code",
   "execution_count": 49,
   "id": "b8b1dfc7",
   "metadata": {},
   "outputs": [
    {
     "data": {
      "image/png": "[encoded data removed]",
      "text/plain": [
       "<Figure size 720x360 with 1 Axes>"
      ]
     },
     "metadata": {
      "needs_background": "light"
     },
     "output_type": "display_data"
    }
   ],
   "source": [
    "candidate_alphas = [ccp_alphas[i] for i in range(0, len(ccp_alphas), 10)]\n",
    "candidate_alphas = candidate_alphas[:-2]\n",
    "\n",
    "clfs = []\n",
    "for ccp_alpha in candidate_alphas:\n",
    "    clf = DecisionTreeClassifier(random_state=42, ccp_alpha=ccp_alpha)\n",
    "    clf.fit(scaled_train_features, train_labels)\n",
    "    clfs.append(clf)\n",
    "    \n",
    "    \n",
    "train_scores = [accuracy_score(clf.predict(scaled_train_features), train_labels) for clf in clfs]\n",
    "test_scores = [accuracy_score(clf.predict(scaled_test_features), test_labels) for clf in clfs]\n",
    "\n",
    "plt.figure(figsize = (10,5))\n",
    "plt.xlabel(\"alpha\")\n",
    "plt.ylabel(\"accuracy score\")\n",
    "plt.title(\"accuracy Score vs alpha for training and testing sets\")\n",
    "plt.plot(candidate_alphas, train_scores, marker='o', label=\"train\",\n",
    "        drawstyle=\"steps-post\")\n",
    "plt.plot(candidate_alphas, test_scores, marker='o', label=\"test\",\n",
    "        drawstyle=\"steps-post\")\n",
    "plt.legend()\n",
    "plt.show()"
   ]
  },
  {
   "cell_type": "code",
   "execution_count": 50,
   "id": "02ccd168",
   "metadata": {},
   "outputs": [],
   "source": [
    "index = np.argmax(test_scores)\n",
    "best_alpha = candidate_alphas[index]\n",
    "clf = DecisionTreeClassifier(ccp_alpha=best_alpha, random_state=42)\n",
    "clf.fit(scaled_train_features, train_labels)\n",
    "preds = clf.predict(scaled_test_features)"
   ]
  },
  {
   "cell_type": "code",
   "execution_count": 51,
   "id": "f7931130",
   "metadata": {},
   "outputs": [
    {
     "data": {
      "text/plain": [
       "(0.8942547876769359, 0.9347714432460196)"
      ]
     },
     "execution_count": 51,
     "metadata": {},
     "output_type": "execute_result"
    }
   ],
   "source": [
    "accuracy_score(test_labels, preds), f1_score(test_labels, preds)"
   ]
  },
  {
   "cell_type": "markdown",
   "id": "187aee3d",
   "metadata": {},
   "source": [
    "# Applying Ensemble Models"
   ]
  },
  {
   "cell_type": "code",
   "execution_count": 52,
   "id": "8a66d782",
   "metadata": {},
   "outputs": [],
   "source": [
    "from sklearn.ensemble import BaggingClassifier, RandomForestClassifier, GradientBoostingClassifier\n",
    "from xgboost import XGBClassifier"
   ]
  },
  {
   "cell_type": "code",
   "execution_count": 53,
   "id": "15d7658c",
   "metadata": {},
   "outputs": [],
   "source": [
    "bagging = BaggingClassifier(n_estimators=100, random_state=42)\n",
    "bagging.fit(scaled_train_features, train_labels)\n",
    "predictions = bagging.predict(scaled_test_features)"
   ]
  },
  {
   "cell_type": "code",
   "execution_count": 54,
   "id": "3eef0aba",
   "metadata": {},
   "outputs": [
    {
     "data": {
      "text/plain": [
       "(0.9159034138218152, 0.9488089204257476)"
      ]
     },
     "execution_count": 54,
     "metadata": {},
     "output_type": "execute_result"
    }
   ],
   "source": [
    "accuracy_score(test_labels, predictions), f1_score(test_labels, predictions)"
   ]
  },
  {
   "cell_type": "code",
   "execution_count": 55,
   "id": "9cf5e7dd",
   "metadata": {},
   "outputs": [],
   "source": [
    "rf_model = RandomForestClassifier(n_estimators=100, random_state=42)\n",
    "rf_model.fit(scaled_train_features, train_labels)\n",
    "predictions = rf_model.predict(scaled_test_features)"
   ]
  },
  {
   "cell_type": "code",
   "execution_count": 56,
   "id": "0db85b37",
   "metadata": {},
   "outputs": [
    {
     "data": {
      "text/plain": [
       "(0.9142381348875936, 0.9479008598887202)"
      ]
     },
     "execution_count": 56,
     "metadata": {},
     "output_type": "execute_result"
    }
   ],
   "source": [
    "accuracy_score(test_labels, predictions), f1_score(test_labels, predictions)"
   ]
  },
  {
   "cell_type": "code",
   "execution_count": 57,
   "id": "8faa228e",
   "metadata": {},
   "outputs": [],
   "source": [
    "scores_ = []\n",
    "for gamma in [0.2, 0.4, 0.6, 0.8]:\n",
    "    for depth in [4, 5, 6, 7, 8, 9, 10, 12, 14]:\n",
    "        xgb = XGBClassifier(n_estimators=100, max_depth=depth, gamma=gamma, random_state=42)\n",
    "        xgb.fit(scaled_train_features, train_labels)\n",
    "        predictions = xgb.predict(scaled_test_features)\n",
    "        scores_.append([accuracy_score(test_labels, predictions), f1_score(test_labels, predictions)])"
   ]
  },
  {
   "cell_type": "code",
   "execution_count": 60,
   "id": "7869e138",
   "metadata": {},
   "outputs": [],
   "source": [
    "xgb = XGBClassifier(n_estimators=100, max_depth=4, gamma=0.8, random_state=42)\n",
    "xgb.fit(scaled_train_features, train_labels)\n",
    "predictions = xgb.predict(scaled_test_features)"
   ]
  },
  {
   "cell_type": "code",
   "execution_count": 61,
   "id": "45541195",
   "metadata": {},
   "outputs": [
    {
     "data": {
      "text/plain": [
       "(0.9208992506244796, 0.9516046867040244)"
      ]
     },
     "execution_count": 61,
     "metadata": {},
     "output_type": "execute_result"
    }
   ],
   "source": [
    "accuracy_score(test_labels, predictions), f1_score(test_labels, predictions)"
   ]
  },
  {
   "cell_type": "code",
   "execution_count": 62,
   "id": "ff3f8c79",
   "metadata": {},
   "outputs": [],
   "source": [
    "scores_ = []\n",
    "for estimators in [5, 10, 30, 70, 100, 120]:\n",
    "    for depth in [4, 6, 8, 10, 12, 14, 20]:\n",
    "        gbm = GradientBoostingClassifier(n_estimators=estimators, max_depth=depth, random_state=42)\n",
    "        gbm.fit(scaled_train_features, train_labels)\n",
    "        predictions = gbm.predict(scaled_test_features)\n",
    "        scores_.append([accuracy_score(test_labels, predictions), f1_score(test_labels, predictions)])"
   ]
  },
  {
   "cell_type": "code",
   "execution_count": 76,
   "id": "78d2bcd4",
   "metadata": {},
   "outputs": [],
   "source": [
    "gbm = GradientBoostingClassifier(n_estimators=75, max_depth=4, random_state=42)\n",
    "gbm.fit(scaled_train_features, train_labels)\n",
    "predictions = gbm.predict(scaled_test_features)"
   ]
  },
  {
   "cell_type": "code",
   "execution_count": 77,
   "id": "a4906015",
   "metadata": {},
   "outputs": [
    {
     "data": {
      "text/plain": [
       "(0.9184013322231473, 0.9500509683995922)"
      ]
     },
     "execution_count": 77,
     "metadata": {},
     "output_type": "execute_result"
    }
   ],
   "source": [
    "accuracy_score(test_labels, predictions), f1_score(test_labels, predictions)"
   ]
  },
  {
   "cell_type": "code",
   "execution_count": null,
   "id": "69f5ec8f",
   "metadata": {},
   "outputs": [],
   "source": []
  },
  {
   "cell_type": "markdown",
   "id": "5a68404a",
   "metadata": {},
   "source": [
    "# Applying PCA"
   ]
  },
  {
   "cell_type": "code",
   "execution_count": 78,
   "id": "0b06aa02",
   "metadata": {},
   "outputs": [
    {
     "name": "stdout",
     "output_type": "stream",
     "text": [
      "[0.27048145 0.2034713  0.14645921 0.14427909 0.10231394 0.08208237\n",
      " 0.05091264]\n",
      "7\n"
     ]
    }
   ],
   "source": [
    "from sklearn.decomposition import PCA\n",
    "\n",
    "# Get our explained variance ratios from PCA using all features\n",
    "pca =  PCA()\n",
    "pca.fit(scaled_train_features)\n",
    "\n",
    "exp_variance = pca.explained_variance_ratio_\n",
    "\n",
    "print(exp_variance)\n",
    "print(pca.n_components_)"
   ]
  },
  {
   "cell_type": "code",
   "execution_count": 79,
   "id": "be03027b",
   "metadata": {},
   "outputs": [
    {
     "data": {
      "image/png": "[encoded data removed]",
      "text/plain": [
       "<Figure size 432x288 with 1 Axes>"
      ]
     },
     "metadata": {
      "needs_background": "light"
     },
     "output_type": "display_data"
    }
   ],
   "source": [
    "# plot the explained variance using a barplot\n",
    "fig, ax = plt.subplots()\n",
    "ax.bar(range(7), exp_variance)\n",
    "ax.set_xlabel('Principal Component #')\n",
    "fig.savefig('pca.png')"
   ]
  },
  {
   "cell_type": "code",
   "execution_count": 80,
   "id": "9002d58f",
   "metadata": {},
   "outputs": [
    {
     "name": "stdout",
     "output_type": "stream",
     "text": [
      "0.8784346378018318\n",
      "0.8776019983347211\n",
      "0.884263114071607\n",
      "0.8859283930058285\n",
      "0.8900915903413822\n",
      "0.8984179850124896\n"
     ]
    }
   ],
   "source": [
    "for i in range(1, 7):\n",
    "    pca = PCA(n_components=i, random_state=10)\n",
    "    train_pca = pca.fit_transform(scaled_train_features)\n",
    "    test_pcs = pca.transform(scaled_test_features)\n",
    "    model = LogisticRegression()\n",
    "    model.fit(train_pca, train_labels)\n",
    "    predicted = model.predict(test_pcs)\n",
    "    print(accuracy_score(test_labels, predicted))"
   ]
  },
  {
   "cell_type": "code",
   "execution_count": 82,
   "id": "56517e69-3130-40d7-9613-c25f26308654",
   "metadata": {},
   "outputs": [
    {
     "data": {
      "text/plain": [
       "(0.8984179850124896, 0.9384460141271442)"
      ]
     },
     "execution_count": 82,
     "metadata": {},
     "output_type": "execute_result"
    }
   ],
   "source": [
    "accuracy_score(test_labels, predicted), f1_score(test_labels, predicted)"
   ]
  },
  {
   "cell_type": "markdown",
   "id": "9bf0f971",
   "metadata": {},
   "source": [
    "# Summury"
   ]
  },
  {
   "cell_type": "markdown",
   "id": "2b2437a1",
   "metadata": {},
   "source": [
    "<table>\n",
    "<tr>\n",
    "<th>Model</th>\n",
    "<th>Accuracy</th>\n",
    "<th>F1 score</th>\n",
    "</tr>\n",
    "<tr>\n",
    "<td>Logistic Regression</td>\n",
    "<td>89.67</td>\n",
    "<td>93.73</td>\n",
    "</tr>\n",
    "<tr>\n",
    "<td>Decision Tree</td>\n",
    "<td>89.42</td>\n",
    "<td>93.47</td>\n",
    "</tr>\n",
    "<tr>\n",
    "<td>Bagging Classifier</td>\n",
    "<td>91.59</td>\n",
    "<td>94.88</td>\n",
    "</tr>\n",
    "<tr>\n",
    "<td>Random Forest</td>\n",
    "<td>91.42</td>\n",
    "<td>94.79</td>\n",
    "</tr>\n",
    "<tr>\n",
    "<td>XGBoost</td>\n",
    "<td>92.09</td>\n",
    "<td>95.16</td>\n",
    "</tr>\n",
    "<tr>\n",
    "<td>Gradient Boosting</td>\n",
    "<td>91.84</td>\n",
    "<td>95</td>\n",
    "</tr>\n",
    "<tr>\n",
    "<td>Logistic Regression with PCA</td>\n",
    "<td>89.84</td>\n",
    "<td>93.84</td>\n",
    "</tr>"
   ]
  },
  {
   "cell_type": "code",
   "execution_count": null,
   "id": "f36158a1",
   "metadata": {},
   "outputs": [],
   "source": []
  }
 ],
 "metadata": {
  "kernelspec": {
   "display_name": "Python 3",
   "language": "python",
   "name": "python3"
  },
  "language_info": {
   "codemirror_mode": {
    "name": "ipython",
    "version": 3
   },
   "file_extension": ".py",
   "mimetype": "text/x-python",
   "name": "python",
   "nbconvert_exporter": "python",
   "pygments_lexer": "ipython3",
   "version": "3.8.8"
  }
 },
 "nbformat": 4,
 "nbformat_minor": 5
}
