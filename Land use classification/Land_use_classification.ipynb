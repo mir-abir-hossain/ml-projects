{
  "nbformat": 4,
  "nbformat_minor": 0,
  "metadata": {
    "colab": {
      "provenance": [],
      "collapsed_sections": [
        "mI21VJefkGKB",
        "yCDF2dmDkKYo",
        "gaT19iJ3kivA",
        "_FVxAA3YmeDJ"
      ],
      "mount_file_id": "12H7HDl1SS8Tbm31lcEHjldoRfoHgy05c",
      "authorship_tag": "ABX9TyNIwFqMlud/hxRthki1c0Hc",
      "include_colab_link": true
    },
    "kernelspec": {
      "name": "python3",
      "display_name": "Python 3"
    },
    "language_info": {
      "name": "python"
    },
    "gpuClass": "standard",
    "widgets": {
      "application/vnd.jupyter.widget-state+json": {
        "b49955c98b504467818a08a5433f5c4d": {
          "model_module": "@jupyter-widgets/controls",
          "model_name": "HBoxModel",
          "model_module_version": "1.5.0",
          "state": {
            "_dom_classes": [],
            "_model_module": "@jupyter-widgets/controls",
            "_model_module_version": "1.5.0",
            "_model_name": "HBoxModel",
            "_view_count": null,
            "_view_module": "@jupyter-widgets/controls",
            "_view_module_version": "1.5.0",
            "_view_name": "HBoxView",
            "box_style": "",
            "children": [
              "IPY_MODEL_e0910d2863bd4f769eb298c810d80e2d",
              "IPY_MODEL_1462a486ecff45c28153f9929d2279da",
              "IPY_MODEL_9d3e83e512cd4fbe896a948eda230908"
            ],
            "layout": "IPY_MODEL_963fcf96137c48de8780bbb20e00e0e1"
          }
        },
        "e0910d2863bd4f769eb298c810d80e2d": {
          "model_module": "@jupyter-widgets/controls",
          "model_name": "HTMLModel",
          "model_module_version": "1.5.0",
          "state": {
            "_dom_classes": [],
            "_model_module": "@jupyter-widgets/controls",
            "_model_module_version": "1.5.0",
            "_model_name": "HTMLModel",
            "_view_count": null,
            "_view_module": "@jupyter-widgets/controls",
            "_view_module_version": "1.5.0",
            "_view_name": "HTMLView",
            "description": "",
            "description_tooltip": null,
            "layout": "IPY_MODEL_f896deb234c147849beebed77fbf211a",
            "placeholder": "​",
            "style": "IPY_MODEL_4f7436762325445fafee019676d7ac05",
            "value": "100%"
          }
        },
        "1462a486ecff45c28153f9929d2279da": {
          "model_module": "@jupyter-widgets/controls",
          "model_name": "FloatProgressModel",
          "model_module_version": "1.5.0",
          "state": {
            "_dom_classes": [],
            "_model_module": "@jupyter-widgets/controls",
            "_model_module_version": "1.5.0",
            "_model_name": "FloatProgressModel",
            "_view_count": null,
            "_view_module": "@jupyter-widgets/controls",
            "_view_module_version": "1.5.0",
            "_view_name": "ProgressView",
            "bar_style": "success",
            "description": "",
            "description_tooltip": null,
            "layout": "IPY_MODEL_4b3d8201c465426fbc3fd9aa53357407",
            "max": 553433881,
            "min": 0,
            "orientation": "horizontal",
            "style": "IPY_MODEL_1e4ee5b8c61c4c91839a0a0478780646",
            "value": 553433881
          }
        },
        "9d3e83e512cd4fbe896a948eda230908": {
          "model_module": "@jupyter-widgets/controls",
          "model_name": "HTMLModel",
          "model_module_version": "1.5.0",
          "state": {
            "_dom_classes": [],
            "_model_module": "@jupyter-widgets/controls",
            "_model_module_version": "1.5.0",
            "_model_name": "HTMLModel",
            "_view_count": null,
            "_view_module": "@jupyter-widgets/controls",
            "_view_module_version": "1.5.0",
            "_view_name": "HTMLView",
            "description": "",
            "description_tooltip": null,
            "layout": "IPY_MODEL_c145d384d7aa46339dd85f27eaef64ac",
            "placeholder": "​",
            "style": "IPY_MODEL_5bda2a0d2a414e91abd742dca214867e",
            "value": " 528M/528M [00:02&lt;00:00, 254MB/s]"
          }
        },
        "963fcf96137c48de8780bbb20e00e0e1": {
          "model_module": "@jupyter-widgets/base",
          "model_name": "LayoutModel",
          "model_module_version": "1.2.0",
          "state": {
            "_model_module": "@jupyter-widgets/base",
            "_model_module_version": "1.2.0",
            "_model_name": "LayoutModel",
            "_view_count": null,
            "_view_module": "@jupyter-widgets/base",
            "_view_module_version": "1.2.0",
            "_view_name": "LayoutView",
            "align_content": null,
            "align_items": null,
            "align_self": null,
            "border": null,
            "bottom": null,
            "display": null,
            "flex": null,
            "flex_flow": null,
            "grid_area": null,
            "grid_auto_columns": null,
            "grid_auto_flow": null,
            "grid_auto_rows": null,
            "grid_column": null,
            "grid_gap": null,
            "grid_row": null,
            "grid_template_areas": null,
            "grid_template_columns": null,
            "grid_template_rows": null,
            "height": null,
            "justify_content": null,
            "justify_items": null,
            "left": null,
            "margin": null,
            "max_height": null,
            "max_width": null,
            "min_height": null,
            "min_width": null,
            "object_fit": null,
            "object_position": null,
            "order": null,
            "overflow": null,
            "overflow_x": null,
            "overflow_y": null,
            "padding": null,
            "right": null,
            "top": null,
            "visibility": null,
            "width": null
          }
        },
        "f896deb234c147849beebed77fbf211a": {
          "model_module": "@jupyter-widgets/base",
          "model_name": "LayoutModel",
          "model_module_version": "1.2.0",
          "state": {
            "_model_module": "@jupyter-widgets/base",
            "_model_module_version": "1.2.0",
            "_model_name": "LayoutModel",
            "_view_count": null,
            "_view_module": "@jupyter-widgets/base",
            "_view_module_version": "1.2.0",
            "_view_name": "LayoutView",
            "align_content": null,
            "align_items": null,
            "align_self": null,
            "border": null,
            "bottom": null,
            "display": null,
            "flex": null,
            "flex_flow": null,
            "grid_area": null,
            "grid_auto_columns": null,
            "grid_auto_flow": null,
            "grid_auto_rows": null,
            "grid_column": null,
            "grid_gap": null,
            "grid_row": null,
            "grid_template_areas": null,
            "grid_template_columns": null,
            "grid_template_rows": null,
            "height": null,
            "justify_content": null,
            "justify_items": null,
            "left": null,
            "margin": null,
            "max_height": null,
            "max_width": null,
            "min_height": null,
            "min_width": null,
            "object_fit": null,
            "object_position": null,
            "order": null,
            "overflow": null,
            "overflow_x": null,
            "overflow_y": null,
            "padding": null,
            "right": null,
            "top": null,
            "visibility": null,
            "width": null
          }
        },
        "4f7436762325445fafee019676d7ac05": {
          "model_module": "@jupyter-widgets/controls",
          "model_name": "DescriptionStyleModel",
          "model_module_version": "1.5.0",
          "state": {
            "_model_module": "@jupyter-widgets/controls",
            "_model_module_version": "1.5.0",
            "_model_name": "DescriptionStyleModel",
            "_view_count": null,
            "_view_module": "@jupyter-widgets/base",
            "_view_module_version": "1.2.0",
            "_view_name": "StyleView",
            "description_width": ""
          }
        },
        "4b3d8201c465426fbc3fd9aa53357407": {
          "model_module": "@jupyter-widgets/base",
          "model_name": "LayoutModel",
          "model_module_version": "1.2.0",
          "state": {
            "_model_module": "@jupyter-widgets/base",
            "_model_module_version": "1.2.0",
            "_model_name": "LayoutModel",
            "_view_count": null,
            "_view_module": "@jupyter-widgets/base",
            "_view_module_version": "1.2.0",
            "_view_name": "LayoutView",
            "align_content": null,
            "align_items": null,
            "align_self": null,
            "border": null,
            "bottom": null,
            "display": null,
            "flex": null,
            "flex_flow": null,
            "grid_area": null,
            "grid_auto_columns": null,
            "grid_auto_flow": null,
            "grid_auto_rows": null,
            "grid_column": null,
            "grid_gap": null,
            "grid_row": null,
            "grid_template_areas": null,
            "grid_template_columns": null,
            "grid_template_rows": null,
            "height": null,
            "justify_content": null,
            "justify_items": null,
            "left": null,
            "margin": null,
            "max_height": null,
            "max_width": null,
            "min_height": null,
            "min_width": null,
            "object_fit": null,
            "object_position": null,
            "order": null,
            "overflow": null,
            "overflow_x": null,
            "overflow_y": null,
            "padding": null,
            "right": null,
            "top": null,
            "visibility": null,
            "width": null
          }
        },
        "1e4ee5b8c61c4c91839a0a0478780646": {
          "model_module": "@jupyter-widgets/controls",
          "model_name": "ProgressStyleModel",
          "model_module_version": "1.5.0",
          "state": {
            "_model_module": "@jupyter-widgets/controls",
            "_model_module_version": "1.5.0",
            "_model_name": "ProgressStyleModel",
            "_view_count": null,
            "_view_module": "@jupyter-widgets/base",
            "_view_module_version": "1.2.0",
            "_view_name": "StyleView",
            "bar_color": null,
            "description_width": ""
          }
        },
        "c145d384d7aa46339dd85f27eaef64ac": {
          "model_module": "@jupyter-widgets/base",
          "model_name": "LayoutModel",
          "model_module_version": "1.2.0",
          "state": {
            "_model_module": "@jupyter-widgets/base",
            "_model_module_version": "1.2.0",
            "_model_name": "LayoutModel",
            "_view_count": null,
            "_view_module": "@jupyter-widgets/base",
            "_view_module_version": "1.2.0",
            "_view_name": "LayoutView",
            "align_content": null,
            "align_items": null,
            "align_self": null,
            "border": null,
            "bottom": null,
            "display": null,
            "flex": null,
            "flex_flow": null,
            "grid_area": null,
            "grid_auto_columns": null,
            "grid_auto_flow": null,
            "grid_auto_rows": null,
            "grid_column": null,
            "grid_gap": null,
            "grid_row": null,
            "grid_template_areas": null,
            "grid_template_columns": null,
            "grid_template_rows": null,
            "height": null,
            "justify_content": null,
            "justify_items": null,
            "left": null,
            "margin": null,
            "max_height": null,
            "max_width": null,
            "min_height": null,
            "min_width": null,
            "object_fit": null,
            "object_position": null,
            "order": null,
            "overflow": null,
            "overflow_x": null,
            "overflow_y": null,
            "padding": null,
            "right": null,
            "top": null,
            "visibility": null,
            "width": null
          }
        },
        "5bda2a0d2a414e91abd742dca214867e": {
          "model_module": "@jupyter-widgets/controls",
          "model_name": "DescriptionStyleModel",
          "model_module_version": "1.5.0",
          "state": {
            "_model_module": "@jupyter-widgets/controls",
            "_model_module_version": "1.5.0",
            "_model_name": "DescriptionStyleModel",
            "_view_count": null,
            "_view_module": "@jupyter-widgets/base",
            "_view_module_version": "1.2.0",
            "_view_name": "StyleView",
            "description_width": ""
          }
        },
        "69ea94fec68a4a3794b708a50f10f549": {
          "model_module": "@jupyter-widgets/controls",
          "model_name": "HBoxModel",
          "model_module_version": "1.5.0",
          "state": {
            "_dom_classes": [],
            "_model_module": "@jupyter-widgets/controls",
            "_model_module_version": "1.5.0",
            "_model_name": "HBoxModel",
            "_view_count": null,
            "_view_module": "@jupyter-widgets/controls",
            "_view_module_version": "1.5.0",
            "_view_name": "HBoxView",
            "box_style": "",
            "children": [
              "IPY_MODEL_35ac665bdfb5477ba449653a9c60225d",
              "IPY_MODEL_73df7b3b34764e5383c5770cea921ea4",
              "IPY_MODEL_f63f407a8014498fa19beaeaaf150f9f"
            ],
            "layout": "IPY_MODEL_2a268a4ec25242c6a3e593f2c68cc5d7"
          }
        },
        "35ac665bdfb5477ba449653a9c60225d": {
          "model_module": "@jupyter-widgets/controls",
          "model_name": "HTMLModel",
          "model_module_version": "1.5.0",
          "state": {
            "_dom_classes": [],
            "_model_module": "@jupyter-widgets/controls",
            "_model_module_version": "1.5.0",
            "_model_name": "HTMLModel",
            "_view_count": null,
            "_view_module": "@jupyter-widgets/controls",
            "_view_module_version": "1.5.0",
            "_view_name": "HTMLView",
            "description": "",
            "description_tooltip": null,
            "layout": "IPY_MODEL_4df49983ffcc4d7abbf37ebb838baabb",
            "placeholder": "​",
            "style": "IPY_MODEL_0b2892d896c144fdaca3bca878fe4017",
            "value": "100%"
          }
        },
        "73df7b3b34764e5383c5770cea921ea4": {
          "model_module": "@jupyter-widgets/controls",
          "model_name": "FloatProgressModel",
          "model_module_version": "1.5.0",
          "state": {
            "_dom_classes": [],
            "_model_module": "@jupyter-widgets/controls",
            "_model_module_version": "1.5.0",
            "_model_name": "FloatProgressModel",
            "_view_count": null,
            "_view_module": "@jupyter-widgets/controls",
            "_view_module_version": "1.5.0",
            "_view_name": "ProgressView",
            "bar_style": "success",
            "description": "",
            "description_tooltip": null,
            "layout": "IPY_MODEL_47c4c770d42f4caebc3cd1ceb8519639",
            "max": 553433881,
            "min": 0,
            "orientation": "horizontal",
            "style": "IPY_MODEL_096ed316217a43aea30e78022c53dc95",
            "value": 553433881
          }
        },
        "f63f407a8014498fa19beaeaaf150f9f": {
          "model_module": "@jupyter-widgets/controls",
          "model_name": "HTMLModel",
          "model_module_version": "1.5.0",
          "state": {
            "_dom_classes": [],
            "_model_module": "@jupyter-widgets/controls",
            "_model_module_version": "1.5.0",
            "_model_name": "HTMLModel",
            "_view_count": null,
            "_view_module": "@jupyter-widgets/controls",
            "_view_module_version": "1.5.0",
            "_view_name": "HTMLView",
            "description": "",
            "description_tooltip": null,
            "layout": "IPY_MODEL_d18d6a87478b44479f0d7cd159c405c8",
            "placeholder": "​",
            "style": "IPY_MODEL_41830bf153c14dcbbc4fd2d2dff2ad63",
            "value": " 528M/528M [00:06&lt;00:00, 86.9MB/s]"
          }
        },
        "2a268a4ec25242c6a3e593f2c68cc5d7": {
          "model_module": "@jupyter-widgets/base",
          "model_name": "LayoutModel",
          "model_module_version": "1.2.0",
          "state": {
            "_model_module": "@jupyter-widgets/base",
            "_model_module_version": "1.2.0",
            "_model_name": "LayoutModel",
            "_view_count": null,
            "_view_module": "@jupyter-widgets/base",
            "_view_module_version": "1.2.0",
            "_view_name": "LayoutView",
            "align_content": null,
            "align_items": null,
            "align_self": null,
            "border": null,
            "bottom": null,
            "display": null,
            "flex": null,
            "flex_flow": null,
            "grid_area": null,
            "grid_auto_columns": null,
            "grid_auto_flow": null,
            "grid_auto_rows": null,
            "grid_column": null,
            "grid_gap": null,
            "grid_row": null,
            "grid_template_areas": null,
            "grid_template_columns": null,
            "grid_template_rows": null,
            "height": null,
            "justify_content": null,
            "justify_items": null,
            "left": null,
            "margin": null,
            "max_height": null,
            "max_width": null,
            "min_height": null,
            "min_width": null,
            "object_fit": null,
            "object_position": null,
            "order": null,
            "overflow": null,
            "overflow_x": null,
            "overflow_y": null,
            "padding": null,
            "right": null,
            "top": null,
            "visibility": null,
            "width": null
          }
        },
        "4df49983ffcc4d7abbf37ebb838baabb": {
          "model_module": "@jupyter-widgets/base",
          "model_name": "LayoutModel",
          "model_module_version": "1.2.0",
          "state": {
            "_model_module": "@jupyter-widgets/base",
            "_model_module_version": "1.2.0",
            "_model_name": "LayoutModel",
            "_view_count": null,
            "_view_module": "@jupyter-widgets/base",
            "_view_module_version": "1.2.0",
            "_view_name": "LayoutView",
            "align_content": null,
            "align_items": null,
            "align_self": null,
            "border": null,
            "bottom": null,
            "display": null,
            "flex": null,
            "flex_flow": null,
            "grid_area": null,
            "grid_auto_columns": null,
            "grid_auto_flow": null,
            "grid_auto_rows": null,
            "grid_column": null,
            "grid_gap": null,
            "grid_row": null,
            "grid_template_areas": null,
            "grid_template_columns": null,
            "grid_template_rows": null,
            "height": null,
            "justify_content": null,
            "justify_items": null,
            "left": null,
            "margin": null,
            "max_height": null,
            "max_width": null,
            "min_height": null,
            "min_width": null,
            "object_fit": null,
            "object_position": null,
            "order": null,
            "overflow": null,
            "overflow_x": null,
            "overflow_y": null,
            "padding": null,
            "right": null,
            "top": null,
            "visibility": null,
            "width": null
          }
        },
        "0b2892d896c144fdaca3bca878fe4017": {
          "model_module": "@jupyter-widgets/controls",
          "model_name": "DescriptionStyleModel",
          "model_module_version": "1.5.0",
          "state": {
            "_model_module": "@jupyter-widgets/controls",
            "_model_module_version": "1.5.0",
            "_model_name": "DescriptionStyleModel",
            "_view_count": null,
            "_view_module": "@jupyter-widgets/base",
            "_view_module_version": "1.2.0",
            "_view_name": "StyleView",
            "description_width": ""
          }
        },
        "47c4c770d42f4caebc3cd1ceb8519639": {
          "model_module": "@jupyter-widgets/base",
          "model_name": "LayoutModel",
          "model_module_version": "1.2.0",
          "state": {
            "_model_module": "@jupyter-widgets/base",
            "_model_module_version": "1.2.0",
            "_model_name": "LayoutModel",
            "_view_count": null,
            "_view_module": "@jupyter-widgets/base",
            "_view_module_version": "1.2.0",
            "_view_name": "LayoutView",
            "align_content": null,
            "align_items": null,
            "align_self": null,
            "border": null,
            "bottom": null,
            "display": null,
            "flex": null,
            "flex_flow": null,
            "grid_area": null,
            "grid_auto_columns": null,
            "grid_auto_flow": null,
            "grid_auto_rows": null,
            "grid_column": null,
            "grid_gap": null,
            "grid_row": null,
            "grid_template_areas": null,
            "grid_template_columns": null,
            "grid_template_rows": null,
            "height": null,
            "justify_content": null,
            "justify_items": null,
            "left": null,
            "margin": null,
            "max_height": null,
            "max_width": null,
            "min_height": null,
            "min_width": null,
            "object_fit": null,
            "object_position": null,
            "order": null,
            "overflow": null,
            "overflow_x": null,
            "overflow_y": null,
            "padding": null,
            "right": null,
            "top": null,
            "visibility": null,
            "width": null
          }
        },
        "096ed316217a43aea30e78022c53dc95": {
          "model_module": "@jupyter-widgets/controls",
          "model_name": "ProgressStyleModel",
          "model_module_version": "1.5.0",
          "state": {
            "_model_module": "@jupyter-widgets/controls",
            "_model_module_version": "1.5.0",
            "_model_name": "ProgressStyleModel",
            "_view_count": null,
            "_view_module": "@jupyter-widgets/base",
            "_view_module_version": "1.2.0",
            "_view_name": "StyleView",
            "bar_color": null,
            "description_width": ""
          }
        },
        "d18d6a87478b44479f0d7cd159c405c8": {
          "model_module": "@jupyter-widgets/base",
          "model_name": "LayoutModel",
          "model_module_version": "1.2.0",
          "state": {
            "_model_module": "@jupyter-widgets/base",
            "_model_module_version": "1.2.0",
            "_model_name": "LayoutModel",
            "_view_count": null,
            "_view_module": "@jupyter-widgets/base",
            "_view_module_version": "1.2.0",
            "_view_name": "LayoutView",
            "align_content": null,
            "align_items": null,
            "align_self": null,
            "border": null,
            "bottom": null,
            "display": null,
            "flex": null,
            "flex_flow": null,
            "grid_area": null,
            "grid_auto_columns": null,
            "grid_auto_flow": null,
            "grid_auto_rows": null,
            "grid_column": null,
            "grid_gap": null,
            "grid_row": null,
            "grid_template_areas": null,
            "grid_template_columns": null,
            "grid_template_rows": null,
            "height": null,
            "justify_content": null,
            "justify_items": null,
            "left": null,
            "margin": null,
            "max_height": null,
            "max_width": null,
            "min_height": null,
            "min_width": null,
            "object_fit": null,
            "object_position": null,
            "order": null,
            "overflow": null,
            "overflow_x": null,
            "overflow_y": null,
            "padding": null,
            "right": null,
            "top": null,
            "visibility": null,
            "width": null
          }
        },
        "41830bf153c14dcbbc4fd2d2dff2ad63": {
          "model_module": "@jupyter-widgets/controls",
          "model_name": "DescriptionStyleModel",
          "model_module_version": "1.5.0",
          "state": {
            "_model_module": "@jupyter-widgets/controls",
            "_model_module_version": "1.5.0",
            "_model_name": "DescriptionStyleModel",
            "_view_count": null,
            "_view_module": "@jupyter-widgets/base",
            "_view_module_version": "1.2.0",
            "_view_name": "StyleView",
            "description_width": ""
          }
        }
      }
    }
  },
  "cells": [
    {
      "cell_type": "markdown",
      "metadata": {
        "id": "view-in-github",
        "colab_type": "text"
      },
      "source": [
        "<a href=\"https://colab.research.google.com/github/mir-abir-hossain/ml-projects/blob/main/Land%20use%20classification/project_27.ipynb\" target=\"_parent\"><img src=\"https://colab.research.google.com/assets/colab-badge.svg\" alt=\"Open In Colab\"/></a>"
      ]
    },
    {
      "cell_type": "markdown",
      "source": [
        "### preliminary"
      ],
      "metadata": {
        "id": "VbXM1GQ9kBAv"
      }
    },
    {
      "cell_type": "code",
      "execution_count": null,
      "metadata": {
        "id": "VpqmyPPM0orA"
      },
      "outputs": [],
      "source": [
        "import os\n",
        "import time\n",
        "import pandas as pd\n",
        "import numpy as np\n",
        "import matplotlib.pyplot as plt\n",
        "\n",
        "from PIL import Image\n",
        "from skimage.feature import hog\n",
        "from skimage.color import rgb2gray\n",
        "\n",
        "%matplotlib inline"
      ]
    },
    {
      "cell_type": "code",
      "source": [
        "os.chdir('/content/drive/MyDrive/project_27')"
      ],
      "metadata": {
        "id": "czWaUahOObsh"
      },
      "execution_count": null,
      "outputs": []
    },
    {
      "cell_type": "code",
      "source": [
        "os.listdir()"
      ],
      "metadata": {
        "colab": {
          "base_uri": "https://localhost:8080/"
        },
        "id": "OGImXrz4Oo9y",
        "outputId": "049f725e-0465-47ef-e50d-2d7bf1f58edf"
      },
      "execution_count": null,
      "outputs": [
        {
          "output_type": "execute_result",
          "data": {
            "text/plain": [
              "['imagepointer.csv', 'color_images.csv', 'project_27.ipynb', 'Images']"
            ]
          },
          "metadata": {},
          "execution_count": 3
        }
      ]
    },
    {
      "cell_type": "code",
      "source": [
        "df = pd.read_csv('imagepointer.csv')"
      ],
      "metadata": {
        "id": "lTgPnMQ8OKKt"
      },
      "execution_count": null,
      "outputs": []
    },
    {
      "cell_type": "code",
      "source": [
        "df.iloc[0]['file_no'], df.iloc[0]['label']"
      ],
      "metadata": {
        "colab": {
          "base_uri": "https://localhost:8080/"
        },
        "id": "z6f8dm17ORU4",
        "outputId": "da68cbf0-e6e3-4167-a773-84e01fd44aa1"
      },
      "execution_count": null,
      "outputs": [
        {
          "output_type": "execute_result",
          "data": {
            "text/plain": [
              "('agricultural00', 'agricultural')"
            ]
          },
          "metadata": {},
          "execution_count": 5
        }
      ]
    },
    {
      "cell_type": "markdown",
      "source": [
        "### feature extraction"
      ],
      "metadata": {
        "id": "mI21VJefkGKB"
      }
    },
    {
      "cell_type": "code",
      "source": [
        "def get_image(row_id, root=os.path.join(os.getcwd(), 'Images')):\n",
        "    \"\"\"\n",
        "    Converts an image number into the file path where the image is located, \n",
        "    opens the image, and returns the image as a numpy array.\n",
        "    \"\"\"\n",
        "    directory = f\"{row_id['label']}\"\n",
        "    filename = f\"{row_id['file_no']}.tif\"\n",
        "    file_path = os.path.join(os.path.join(root, directory), filename)  \n",
        "    img = Image.open(file_path)\n",
        "    if img.size!=(256, 256):\n",
        "      img = img.resize((256, 256))\n",
        "    return np.array(img)"
      ],
      "metadata": {
        "id": "zQtRZQNjOGXv"
      },
      "execution_count": null,
      "outputs": []
    },
    {
      "cell_type": "code",
      "source": [
        "def create_features(img):\n",
        "    # flatten three channel color image\n",
        "    color_features = img.flatten()\n",
        "    # convert image to grayscale\n",
        "    gray_image = rgb2gray(img)\n",
        "    # get HOG features from grayscale image\n",
        "    hog_features = hog(gray_image, block_norm='L2-Hys', pixels_per_cell=(16, 16), cells_per_block=(3, 3))\n",
        "    # combine color and hog features into a single array\n",
        "    flat_features = np.hstack((color_features, hog_features))\n",
        "    return flat_features"
      ],
      "metadata": {
        "id": "-0WRFfom09on"
      },
      "execution_count": null,
      "outputs": []
    },
    {
      "cell_type": "code",
      "source": [
        "def create_feature_matrix(label_dataframe):\n",
        "    features_list = []\n",
        "    \n",
        "    for i in label_dataframe.index:\n",
        "        # load image\n",
        "        img = get_image(label_dataframe.loc[i])\n",
        "        # get features for image\n",
        "        image_features = create_features(img)\n",
        "        features_list.append(image_features)\n",
        "        \n",
        "    # convert list of arrays into a matrix\n",
        "    feature_matrix = np.array(features_list, dtype='float16')\n",
        "    return feature_matrix"
      ],
      "metadata": {
        "id": "SIWv_L3V1aGv"
      },
      "execution_count": null,
      "outputs": []
    },
    {
      "cell_type": "code",
      "source": [
        "feature_matrix = create_feature_matrix(df)"
      ],
      "metadata": {
        "id": "7_3lJu9u191q"
      },
      "execution_count": null,
      "outputs": []
    },
    {
      "cell_type": "code",
      "source": [
        "feature_matrix.dtype"
      ],
      "metadata": {
        "colab": {
          "base_uri": "https://localhost:8080/"
        },
        "id": "viPwjdmjfoAS",
        "outputId": "9b5453e1-5199-4309-9ab3-2af2908d31aa"
      },
      "execution_count": null,
      "outputs": [
        {
          "output_type": "execute_result",
          "data": {
            "text/plain": [
              "dtype('float16')"
            ]
          },
          "metadata": {},
          "execution_count": 31
        }
      ]
    },
    {
      "cell_type": "code",
      "source": [
        "feature_matrix.nbytes"
      ],
      "metadata": {
        "colab": {
          "base_uri": "https://localhost:8080/"
        },
        "id": "sBLi4NYKWgdO",
        "outputId": "e9d41aa6-c81d-4a1f-d503-d5096e60c1db"
      },
      "execution_count": null,
      "outputs": [
        {
          "output_type": "execute_result",
          "data": {
            "text/plain": [
              "892432800"
            ]
          },
          "metadata": {},
          "execution_count": 32
        }
      ]
    },
    {
      "cell_type": "markdown",
      "source": [
        "### Normalize and train test split"
      ],
      "metadata": {
        "id": "yCDF2dmDkKYo"
      }
    },
    {
      "cell_type": "code",
      "source": [
        "from sklearn.model_selection import train_test_split\n",
        "from sklearn.preprocessing import StandardScaler"
      ],
      "metadata": {
        "id": "kXCzc-lpWgY0"
      },
      "execution_count": null,
      "outputs": []
    },
    {
      "cell_type": "code",
      "source": [
        "# split out evaluation sets (x_eval and y_eval)\n",
        "x_interim, x_eval, y_interim, y_eval = train_test_split(feature_matrix,\n",
        "                                           df['label'].values,\n",
        "                                           test_size=0.2,\n",
        "                                           random_state=52)\n",
        "\n",
        "# split remaining data into train and test sets\n",
        "x_train, x_test, y_train, y_test = train_test_split(x_interim,\n",
        "                                                    y_interim,\n",
        "                                                    test_size=0.4,\n",
        "                                                    random_state=52)\n",
        "\n",
        "# examine number of samples in train, test, and validation sets\n",
        "print('x_train shape:', x_train.shape)\n",
        "print(x_train[0], 'train samples')\n",
        "print(x_test.shape[0], 'test samples')\n",
        "print(x_eval.shape[0], 'eval samples')"
      ],
      "metadata": {
        "colab": {
          "base_uri": "https://localhost:8080/"
        },
        "id": "4n6y8kQ7Uyz0",
        "outputId": "9b232854-85cb-4cfa-d897-85599737c318"
      },
      "execution_count": null,
      "outputs": [
        {
          "output_type": "stream",
          "name": "stdout",
          "text": [
            "x_train shape: (1008, 212484)\n",
            "[1.430e+02 1.350e+02 1.380e+02 ... 4.856e-03 2.559e-02 1.307e-01] train samples\n",
            "672 test samples\n",
            "420 eval samples\n"
          ]
        }
      ]
    },
    {
      "cell_type": "code",
      "source": [
        "# get shape of our training features\n",
        "print('Training features matrix shape is: ', x_train.shape)\n",
        "\n",
        "# define standard scaler\n",
        "ss = StandardScaler()\n",
        "\n",
        "# fit the scaler and transform the training features\n",
        "train_stand = ss.fit_transform(x_train)\n",
        "\n",
        "# transform the test features\n",
        "test_stand = ss.transform(x_test)\n",
        "\n",
        "# look at the new shape of the standardized feature matrices\n",
        "print('Standardized training features matrix shape is: ', train_stand.shape)\n",
        "print('Standardized test features matrix shape is: ', test_stand.shape)"
      ],
      "metadata": {
        "colab": {
          "base_uri": "https://localhost:8080/"
        },
        "id": "1cpAio1aYHOv",
        "outputId": "a80f6d39-90b9-4102-805b-03a67f0fa366"
      },
      "execution_count": null,
      "outputs": [
        {
          "output_type": "stream",
          "name": "stdout",
          "text": [
            "Training features matrix shape is:  (1008, 212484)\n",
            "Standardized training features matrix shape is:  (1008, 212484)\n",
            "Standardized test features matrix shape is:  (672, 212484)\n"
          ]
        }
      ]
    },
    {
      "cell_type": "code",
      "source": [],
      "metadata": {
        "id": "8h3HnmgoYd3n"
      },
      "execution_count": null,
      "outputs": []
    },
    {
      "cell_type": "markdown",
      "source": [
        "### PCA"
      ],
      "metadata": {
        "id": "gaT19iJ3kivA"
      }
    },
    {
      "cell_type": "code",
      "source": [
        "from sklearn.decomposition import PCA"
      ],
      "metadata": {
        "id": "GUVYEYankovs"
      },
      "execution_count": null,
      "outputs": []
    },
    {
      "cell_type": "code",
      "source": [
        "# Instantiate a PCA object with 350 components\n",
        "pca = PCA(n_components=450)\n",
        "pca.fit(train_stand)\n",
        "\n",
        "# use fit_transform on our standardized training features\n",
        "X_train = pca.transform(train_stand)\n",
        "\n",
        "# use transform on our standardized test features\n",
        "X_test = pca.transform(test_stand)\n",
        "\n",
        "# look at new shape\n",
        "print('Training features matrix is: ', X_train.shape)\n",
        "print('Test features matrix is: ', X_test.shape)"
      ],
      "metadata": {
        "colab": {
          "base_uri": "https://localhost:8080/"
        },
        "id": "ExhancVgkPkW",
        "outputId": "6b43234d-b10b-4d17-bd19-f558ae316804"
      },
      "execution_count": null,
      "outputs": [
        {
          "output_type": "stream",
          "name": "stdout",
          "text": [
            "Training features matrix is:  (1008, 450)\n",
            "Test features matrix is:  (672, 450)\n"
          ]
        }
      ]
    },
    {
      "cell_type": "code",
      "source": [
        "aaaa = pca.explained_variance_ratio_\n",
        "sum = 0\n",
        "count = 0\n",
        "for i in aaaa:\n",
        "  sum += i\n",
        "  count += 1\n",
        "  print(count, sum)"
      ],
      "metadata": {
        "colab": {
          "base_uri": "https://localhost:8080/"
        },
        "id": "WOI9MDknpINO",
        "outputId": "4b4ceb17-1ca6-427e-8933-c0d199527036"
      },
      "execution_count": null,
      "outputs": [
        {
          "output_type": "stream",
          "name": "stdout",
          "text": [
            "1 0.246096910394099\n",
            "2 0.2744647508211904\n",
            "3 0.2999866371879615\n",
            "4 0.32052424829169573\n",
            "5 0.33663300005047153\n",
            "6 0.3520891980273444\n",
            "7 0.3658595445899129\n",
            "8 0.37781932483381214\n",
            "9 0.38915766795454704\n",
            "10 0.3996344658670916\n",
            "11 0.40891067834486494\n",
            "12 0.41769519446032166\n",
            "13 0.4254439144061641\n",
            "14 0.43248209966505036\n",
            "15 0.43939317417798046\n",
            "16 0.44604636503734835\n",
            "17 0.45184840368505375\n",
            "18 0.45751652561897577\n",
            "19 0.46299577933732594\n",
            "20 0.4683271354287207\n",
            "21 0.47357412755890094\n",
            "22 0.478393564076823\n",
            "23 0.4830093019658064\n",
            "24 0.48741890791123904\n",
            "25 0.491669596393943\n",
            "26 0.4958797202304078\n",
            "27 0.4999654417109805\n",
            "28 0.5038906338128047\n",
            "29 0.5077234456163527\n",
            "30 0.5115273729834645\n",
            "31 0.5150966762843413\n",
            "32 0.5186216067614586\n",
            "33 0.5221096113400503\n",
            "34 0.5254139141347904\n",
            "35 0.5287033185141078\n",
            "36 0.5318884383479953\n",
            "37 0.5349674760204831\n",
            "38 0.5379476194119973\n",
            "39 0.5408847428664518\n",
            "40 0.5438137685745152\n",
            "41 0.546717979452789\n",
            "42 0.549413950013983\n",
            "43 0.5520513972502853\n",
            "44 0.5546545218957356\n",
            "45 0.557219124108062\n",
            "46 0.5597445398288325\n",
            "47 0.5622320286462715\n",
            "48 0.5646726234082348\n",
            "49 0.5671113211314934\n",
            "50 0.5695390513486807\n",
            "51 0.5719217140440523\n",
            "52 0.5742579922698243\n",
            "53 0.5765575579364711\n",
            "54 0.5788126328533757\n",
            "55 0.5810508484357109\n",
            "56 0.5832379783082361\n",
            "57 0.5854181568881803\n",
            "58 0.5875745395123542\n",
            "59 0.5897008148434209\n",
            "60 0.591810309976601\n",
            "61 0.5938860617232524\n",
            "62 0.5959511210126599\n",
            "63 0.5979879010202747\n",
            "64 0.6000071405527384\n",
            "65 0.6020049394143322\n",
            "66 0.6039723742662849\n",
            "67 0.6059287228479463\n",
            "68 0.6078666014573779\n",
            "69 0.6097645440058297\n",
            "70 0.6116379140046806\n",
            "71 0.6135066583350265\n",
            "72 0.6153530295444124\n",
            "73 0.6171970295953408\n",
            "74 0.6190121190740325\n",
            "75 0.6208245713064486\n",
            "76 0.6226120911878834\n",
            "77 0.6243868111644303\n",
            "78 0.626140022749149\n",
            "79 0.627859770570255\n",
            "80 0.6295582901371581\n",
            "81 0.6312409523019267\n",
            "82 0.6329174090507457\n",
            "83 0.6345753086985891\n",
            "84 0.6362163866242913\n",
            "85 0.6378413609303716\n",
            "86 0.6394462971195355\n",
            "87 0.6410378325136072\n",
            "88 0.6426215747161428\n",
            "89 0.644194933340324\n",
            "90 0.645753918042673\n",
            "91 0.6473015959184377\n",
            "92 0.6488362859162059\n",
            "93 0.6503553125884838\n",
            "94 0.6518558893112789\n",
            "95 0.6533522782710552\n",
            "96 0.6548405392990873\n",
            "97 0.6563047637992713\n",
            "98 0.6577631748418875\n",
            "99 0.6592165674195629\n",
            "100 0.6606565228316766\n",
            "101 0.662083535312356\n",
            "102 0.6635043817761359\n",
            "103 0.6649220419835764\n",
            "104 0.6663233010968612\n",
            "105 0.6677216273838414\n",
            "106 0.6691123197962698\n",
            "107 0.6704916667702232\n",
            "108 0.6718514028009042\n",
            "109 0.6732037436635233\n",
            "110 0.6745440501466233\n",
            "111 0.6758770732647943\n",
            "112 0.6771961857166487\n",
            "113 0.6785054196552106\n",
            "114 0.679806119427435\n",
            "115 0.6811028157128552\n",
            "116 0.682395555115026\n",
            "117 0.683676009199203\n",
            "118 0.6849474220060893\n",
            "119 0.6862125456152527\n",
            "120 0.6874708799235546\n",
            "121 0.6887258336793671\n",
            "122 0.6899710794926699\n",
            "123 0.6912097120735667\n",
            "124 0.6924411204342059\n",
            "125 0.6936637387543924\n",
            "126 0.6948769881989246\n",
            "127 0.6960861339751547\n",
            "128 0.697290307545696\n",
            "129 0.6984759690961545\n",
            "130 0.6996584905257703\n",
            "131 0.7008382172527446\n",
            "132 0.702005571779877\n",
            "133 0.7031673596424951\n",
            "134 0.7043178622987301\n",
            "135 0.7054578981374625\n",
            "136 0.7065959638454262\n",
            "137 0.707727241725744\n",
            "138 0.7088489032823325\n",
            "139 0.7099655512642844\n",
            "140 0.7110748148119312\n",
            "141 0.7121740101645585\n",
            "142 0.7132675360419061\n",
            "143 0.714359245166548\n",
            "144 0.7154427712062451\n",
            "145 0.7165206945988891\n",
            "146 0.7175934682842883\n",
            "147 0.7186628989092295\n",
            "148 0.7197282410121171\n",
            "149 0.7207918978352272\n",
            "150 0.7218491355254372\n",
            "151 0.72290209924082\n",
            "152 0.7239501533780655\n",
            "153 0.7249938774337902\n",
            "154 0.726033294226991\n",
            "155 0.7270637470700028\n",
            "156 0.7280922917125694\n",
            "157 0.7291194882003383\n",
            "158 0.730139440279647\n",
            "159 0.7311453022204533\n",
            "160 0.7321474734136469\n",
            "161 0.7331492903265091\n",
            "162 0.7341424295536155\n",
            "163 0.7351306015135878\n",
            "164 0.736116214431803\n",
            "165 0.7370956758117109\n",
            "166 0.7380739552154557\n",
            "167 0.7390453341446431\n",
            "168 0.7400096826880067\n",
            "169 0.7409714474660505\n",
            "170 0.7419274837477502\n",
            "171 0.7428792804945716\n",
            "172 0.7438254783968685\n",
            "173 0.7447653236123452\n",
            "174 0.745701273197978\n",
            "175 0.7466306402546578\n",
            "176 0.7475560067192794\n",
            "177 0.7484796827794044\n",
            "178 0.7494020430521908\n",
            "179 0.7503201173284609\n",
            "180 0.7512344406358396\n",
            "181 0.7521431768183287\n",
            "182 0.7530462824469076\n",
            "183 0.7539443033379787\n",
            "184 0.7548410245589566\n",
            "185 0.755730412293061\n",
            "186 0.7566177735990445\n",
            "187 0.7575040961826996\n",
            "188 0.758382017580245\n",
            "189 0.7592572636796916\n",
            "190 0.7601296287544345\n",
            "191 0.760998646767194\n",
            "192 0.7618615288521946\n",
            "193 0.762719304552207\n",
            "194 0.7635761378332594\n",
            "195 0.7644256452647659\n",
            "196 0.7652745783689024\n",
            "197 0.7661206730928303\n",
            "198 0.7669632778320976\n",
            "199 0.7678018558702576\n",
            "200 0.7686357963926324\n",
            "201 0.769464293009527\n",
            "202 0.7702883912459118\n",
            "203 0.771109861149023\n",
            "204 0.771927635824113\n",
            "205 0.7727442070445646\n",
            "206 0.7735572402967579\n",
            "207 0.7743655394583969\n",
            "208 0.7751681794364026\n",
            "209 0.7759672177730859\n",
            "210 0.7767650872034201\n",
            "211 0.7775601222912436\n",
            "212 0.7783529088531516\n",
            "213 0.7791386616963119\n",
            "214 0.7799215602253282\n",
            "215 0.7807028447759141\n",
            "216 0.7814787978709427\n",
            "217 0.7822501253265538\n",
            "218 0.783020355737179\n",
            "219 0.78378343303262\n",
            "220 0.7845449133597017\n",
            "221 0.7853037564541299\n",
            "222 0.7860562830401865\n",
            "223 0.786807239906563\n",
            "224 0.7875576881740596\n",
            "225 0.7883012648596056\n",
            "226 0.7890446250565102\n",
            "227 0.7897847839210757\n",
            "228 0.790521782880928\n",
            "229 0.7912564029163156\n",
            "230 0.7919871754206653\n",
            "231 0.7927149046361458\n",
            "232 0.793438953343219\n",
            "233 0.7941608700053066\n",
            "234 0.7948796204389694\n",
            "235 0.7955947669914483\n",
            "236 0.7963053327924309\n",
            "237 0.7970147376989792\n",
            "238 0.7977203511540917\n",
            "239 0.7984235187332822\n",
            "240 0.7991242252202343\n",
            "241 0.7998220368201902\n",
            "242 0.8005195887693987\n",
            "243 0.801211149019584\n",
            "244 0.8019012263372819\n",
            "245 0.802587807045913\n",
            "246 0.8032724516327674\n",
            "247 0.8039569314790143\n",
            "248 0.8046367883606751\n",
            "249 0.8053114941176199\n",
            "250 0.8059849327706813\n",
            "251 0.8066566003116092\n",
            "252 0.8073245331169805\n",
            "253 0.8079893674197164\n",
            "254 0.8086520502052812\n",
            "255 0.8093127631706714\n",
            "256 0.8099706753766956\n",
            "257 0.8106276699411313\n",
            "258 0.8112833573942192\n",
            "259 0.8119368437470914\n",
            "260 0.8125871605948972\n",
            "261 0.8132331854231326\n",
            "262 0.8138763049333343\n",
            "263 0.8145165391801751\n",
            "264 0.8151560186553023\n",
            "265 0.8157921719019311\n",
            "266 0.8164237880178846\n",
            "267 0.8170543375820782\n",
            "268 0.8176827687810657\n",
            "269 0.8183094814015104\n",
            "270 0.8189336675919227\n",
            "271 0.8195559310932885\n",
            "272 0.8201768990529302\n",
            "273 0.820797224675935\n",
            "274 0.8214154044160439\n",
            "275 0.8220308071794389\n",
            "276 0.8226430790827101\n",
            "277 0.8232535700878988\n",
            "278 0.8238627221750778\n",
            "279 0.8244681325516231\n",
            "280 0.8250715052091421\n",
            "281 0.8256727193229845\n",
            "282 0.8262696840238922\n",
            "283 0.8268645321402901\n",
            "284 0.8274569536654339\n",
            "285 0.8280464778725425\n",
            "286 0.8286355704772783\n",
            "287 0.8292226164676968\n",
            "288 0.8298062724715767\n",
            "289 0.8303880294516859\n",
            "290 0.8309671907971634\n",
            "291 0.8315455789492489\n",
            "292 0.8321229171106065\n",
            "293 0.8326985485209525\n",
            "294 0.8332686506754684\n",
            "295 0.8338375274736228\n",
            "296 0.8344055165453466\n",
            "297 0.8349699635736836\n",
            "298 0.8355329975786345\n",
            "299 0.8360938764797196\n",
            "300 0.8366529717835214\n",
            "301 0.8372103421602092\n",
            "302 0.8377665898476984\n",
            "303 0.8383200780062231\n",
            "304 0.8388709582659187\n",
            "305 0.8394196711557554\n",
            "306 0.8399644690963203\n",
            "307 0.8405089711477074\n",
            "308 0.8410523778993103\n",
            "309 0.841594745952963\n",
            "310 0.8421360267609613\n",
            "311 0.8426735836190016\n",
            "312 0.843209655550077\n",
            "313 0.8437426294149957\n",
            "314 0.8442733173047475\n",
            "315 0.844802477975045\n",
            "316 0.8453303246404911\n",
            "317 0.8458560234835064\n",
            "318 0.8463810272983214\n",
            "319 0.84690514780029\n",
            "320 0.8474253996864888\n",
            "321 0.8479432096373359\n",
            "322 0.8484606773831324\n",
            "323 0.8489761386445855\n",
            "324 0.8494892444182238\n",
            "325 0.8500003947534458\n",
            "326 0.8505092938287172\n",
            "327 0.8510155821587414\n",
            "328 0.8515212335516978\n",
            "329 0.8520253437460045\n",
            "330 0.852527141012753\n",
            "331 0.853028399548666\n",
            "332 0.853524994484876\n",
            "333 0.8540194085334624\n",
            "334 0.8545134550583545\n",
            "335 0.8550054494697127\n",
            "336 0.8554969490687593\n",
            "337 0.8559867787523393\n",
            "338 0.8564748657924766\n",
            "339 0.8569619621560604\n",
            "340 0.8574463637851282\n",
            "341 0.8579296143286248\n",
            "342 0.8584118627560101\n",
            "343 0.8588912002305734\n",
            "344 0.8593685244407885\n",
            "345 0.8598435938312661\n",
            "346 0.8603182685624545\n",
            "347 0.860792291333215\n",
            "348 0.8612645528287205\n",
            "349 0.8617361069183636\n",
            "350 0.862204342849249\n",
            "351 0.8626712793420842\n",
            "352 0.8631348547677797\n",
            "353 0.8635966050111383\n",
            "354 0.8640576800984174\n",
            "355 0.8645184884371836\n",
            "356 0.8649771823517882\n",
            "357 0.8654339250734236\n",
            "358 0.8658898768691986\n",
            "359 0.8663428376801556\n",
            "360 0.8667931838021532\n",
            "361 0.8672424401529668\n",
            "362 0.8676907371950267\n",
            "363 0.8681374805232749\n",
            "364 0.8685839179366938\n",
            "365 0.869028249995727\n",
            "366 0.8694715868198394\n",
            "367 0.8699137737196998\n",
            "368 0.8703550267285752\n",
            "369 0.8707936208868521\n",
            "370 0.871229309966732\n",
            "371 0.8716640362246186\n",
            "372 0.8720975324841188\n",
            "373 0.872529151631436\n",
            "374 0.8729599594879547\n",
            "375 0.8733894770551223\n",
            "376 0.8738158526188756\n",
            "377 0.8742409534734799\n",
            "378 0.8746649207674132\n",
            "379 0.8750876170835739\n",
            "380 0.8755093504408955\n",
            "381 0.8759287301898161\n",
            "382 0.8763458225241917\n",
            "383 0.8767617534943011\n",
            "384 0.877177411136387\n",
            "385 0.8775908745314579\n",
            "386 0.8780017249633593\n",
            "387 0.8784122454529506\n",
            "388 0.8788204541548721\n",
            "389 0.8792270718664024\n",
            "390 0.8796330610475676\n",
            "391 0.8800375011254418\n",
            "392 0.8804408180300473\n",
            "393 0.8808421118920332\n",
            "394 0.8812426534375191\n",
            "395 0.8816412930039959\n",
            "396 0.8820386465498208\n",
            "397 0.8824347419799451\n",
            "398 0.8828294266143104\n",
            "399 0.8832218105083601\n",
            "400 0.883613095598172\n",
            "401 0.8840033105011643\n",
            "402 0.8843929904370471\n",
            "403 0.8847813675234925\n",
            "404 0.8851687795840978\n",
            "405 0.8855552716234435\n",
            "406 0.8859387118757502\n",
            "407 0.8863210285898331\n",
            "408 0.8867022927831767\n",
            "409 0.8870829969279751\n",
            "410 0.8874607723582758\n",
            "411 0.8878373871135921\n",
            "412 0.8882126837640352\n",
            "413 0.8885866760997486\n",
            "414 0.8889587584712599\n",
            "415 0.8893306709766537\n",
            "416 0.8897004598359506\n",
            "417 0.8900696466136134\n",
            "418 0.8904368205508518\n",
            "419 0.8908032427447882\n",
            "420 0.8911688268149124\n",
            "421 0.891533181474577\n",
            "422 0.8918959717663243\n",
            "423 0.8922578993962916\n",
            "424 0.8926162000939822\n",
            "425 0.8929743856898198\n",
            "426 0.8933299222336714\n",
            "427 0.8936843159318559\n",
            "428 0.894037751536819\n",
            "429 0.8943887648927891\n",
            "430 0.8947384098097858\n",
            "431 0.8950868003751432\n",
            "432 0.8954332452943131\n",
            "433 0.8957771930526589\n",
            "434 0.8961199264722917\n",
            "435 0.8964607215102934\n",
            "436 0.8968010311387191\n",
            "437 0.897139840205953\n",
            "438 0.8974775755542356\n",
            "439 0.897812182548256\n",
            "440 0.8981455196592683\n",
            "441 0.8984784758015488\n",
            "442 0.898809959241533\n",
            "443 0.8991403689947987\n",
            "444 0.8994699699141228\n",
            "445 0.8997961864332455\n",
            "446 0.9001213437345217\n",
            "447 0.9004443662405782\n",
            "448 0.9007652471006974\n",
            "449 0.9010849126730741\n",
            "450 0.9014040392210545\n"
          ]
        }
      ]
    },
    {
      "cell_type": "markdown",
      "source": [
        "### model with svm"
      ],
      "metadata": {
        "id": "_FVxAA3YmeDJ"
      }
    },
    {
      "cell_type": "code",
      "source": [
        "from sklearn.svm import SVC\n",
        "from sklearn.metrics import accuracy_score"
      ],
      "metadata": {
        "id": "Qm1lBq7emiPL"
      },
      "execution_count": null,
      "outputs": []
    },
    {
      "cell_type": "code",
      "source": [
        "# define support vector classifier\n",
        "svm = SVC(kernel='rbf', probability=True, random_state=42)\n",
        "\n",
        "# fit model\n",
        "# ... YOUR CODE FOR TASK 10 ...\n",
        "svm.fit(X_train, y_train)\n",
        "\n",
        "# generate predictions\n",
        "y_pred = svm.predict(X_test)\n",
        "\n",
        "# calculate accuracy\n",
        "accuracy = accuracy_score(y_test, y_pred)\n",
        "print('Model accuracy is: ', accuracy)"
      ],
      "metadata": {
        "colab": {
          "base_uri": "https://localhost:8080/"
        },
        "id": "UYQP6eXzkPgV",
        "outputId": "742786e1-c7f8-43e0-a71b-83572d3bc007"
      },
      "execution_count": null,
      "outputs": [
        {
          "output_type": "stream",
          "name": "stdout",
          "text": [
            "Model accuracy is:  0.36755952380952384\n"
          ]
        }
      ]
    },
    {
      "cell_type": "code",
      "source": [],
      "metadata": {
        "id": "0NgFI_vTm-a5"
      },
      "execution_count": null,
      "outputs": []
    },
    {
      "cell_type": "markdown",
      "source": [
        "### CNN"
      ],
      "metadata": {
        "id": "wWlusM_x0TeP"
      }
    },
    {
      "cell_type": "code",
      "source": [
        "import torch\n",
        "import torch.nn as nn\n",
        "import torch.nn.functional as F\n",
        "import torch.optim as optim\n",
        "from torch.optim import lr_scheduler\n",
        "import torchvision\n",
        "import torchvision.transforms as transforms"
      ],
      "metadata": {
        "id": "Ut0762aS0SFc"
      },
      "execution_count": null,
      "outputs": []
    },
    {
      "cell_type": "code",
      "source": [
        "transform = transforms.Compose(\n",
        "    [transforms.ToTensor(),\n",
        "     transforms.Resize((256, 256)),\n",
        "     transforms.Normalize(mean=(0.485, 0.456, 0.406), std=(0.229, 0.224, 0.225))]\n",
        ")"
      ],
      "metadata": {
        "id": "bTX89RTOZ5uU"
      },
      "execution_count": null,
      "outputs": []
    },
    {
      "cell_type": "code",
      "source": [
        "dataset = torchvision.datasets.ImageFolder(root='/content/drive/MyDrive/project_27/Images', transform=transform)"
      ],
      "metadata": {
        "id": "aF1SnLJ2ZDPU"
      },
      "execution_count": null,
      "outputs": []
    },
    {
      "cell_type": "code",
      "source": [
        "type(dataset)"
      ],
      "metadata": {
        "colab": {
          "base_uri": "https://localhost:8080/"
        },
        "id": "uX1-T743t8D2",
        "outputId": "23a948e9-d03f-46b7-9c0a-2a78d856a345"
      },
      "execution_count": null,
      "outputs": [
        {
          "output_type": "execute_result",
          "data": {
            "text/plain": [
              "torchvision.datasets.folder.ImageFolder"
            ]
          },
          "metadata": {},
          "execution_count": 4
        }
      ]
    },
    {
      "cell_type": "code",
      "source": [
        "interm_indices, test_indices = train_test_split(np.arange(len(dataset.targets)),\n",
        "                                                test_size=0.1,\n",
        "                                                shuffle=True, \n",
        "                                                stratify=dataset.targets)"
      ],
      "metadata": {
        "id": "ms2gQ0OTSKQf"
      },
      "execution_count": null,
      "outputs": []
    },
    {
      "cell_type": "code",
      "source": [
        "interm_target = [dataset.targets[i] for i in interm_indices]"
      ],
      "metadata": {
        "id": "8sFWHYR0gjOM"
      },
      "execution_count": null,
      "outputs": []
    },
    {
      "cell_type": "code",
      "source": [
        "train_indices, val_indices = train_test_split(interm_indices,\n",
        "                                                test_size=0.1,\n",
        "                                                shuffle=True, \n",
        "                                                stratify=interm_target)"
      ],
      "metadata": {
        "id": "3jQS6I9ZVXfe"
      },
      "execution_count": null,
      "outputs": []
    },
    {
      "cell_type": "code",
      "source": [
        "final_train_target = [dataset.targets[i] for i in train_indices]"
      ],
      "metadata": {
        "id": "lZSHlrxPXiRl"
      },
      "execution_count": null,
      "outputs": []
    },
    {
      "cell_type": "code",
      "source": [
        "len([i for i in range(len(final_train_target)) if final_train_target[i]==20])"
      ],
      "metadata": {
        "colab": {
          "base_uri": "https://localhost:8080/"
        },
        "id": "cXiw3W3xXiO6",
        "outputId": "616bd8b6-7e91-4cd0-d15d-eb2f1bbda5f6"
      },
      "execution_count": null,
      "outputs": [
        {
          "output_type": "execute_result",
          "data": {
            "text/plain": [
              "81"
            ]
          },
          "metadata": {},
          "execution_count": 13
        }
      ]
    },
    {
      "cell_type": "code",
      "source": [
        "train_dataset = torch.utils.data.Subset(dataset, train_indices)\n",
        "val_dataset = torch.utils.data.Subset(dataset, val_indices)\n",
        "test_dataset = torch.utils.data.Subset(dataset, test_indices)"
      ],
      "metadata": {
        "id": "rS2gJ1BuXiME"
      },
      "execution_count": null,
      "outputs": []
    },
    {
      "cell_type": "code",
      "source": [
        "len(val_dataset)"
      ],
      "metadata": {
        "colab": {
          "base_uri": "https://localhost:8080/"
        },
        "id": "x9ZxJdifXiGx",
        "outputId": "9cbd3e08-5de0-4a2f-99fd-723c1131a416"
      },
      "execution_count": null,
      "outputs": [
        {
          "output_type": "execute_result",
          "data": {
            "text/plain": [
              "189"
            ]
          },
          "metadata": {},
          "execution_count": 17
        }
      ]
    },
    {
      "cell_type": "code",
      "source": [
        "train_dataset"
      ],
      "metadata": {
        "colab": {
          "base_uri": "https://localhost:8080/"
        },
        "id": "f7nMLpLxXiDU",
        "outputId": "cee27c06-979f-4189-83ea-ab65f490407e"
      },
      "execution_count": null,
      "outputs": [
        {
          "output_type": "execute_result",
          "data": {
            "text/plain": [
              "<torch.utils.data.dataset.Subset at 0x7f0006da2950>"
            ]
          },
          "metadata": {},
          "execution_count": 19
        }
      ]
    },
    {
      "cell_type": "code",
      "source": [
        "train_loader = torch.utils.data.DataLoader(train_dataset, batch_size=32, shuffle=True)\n",
        "val_loader = torch.utils.data.DataLoader(val_dataset, batch_size=32)\n",
        "test_loader = torch.utils.data.DataLoader(test_dataset, batch_size=32)"
      ],
      "metadata": {
        "id": "ONOeY4uLXh-V"
      },
      "execution_count": null,
      "outputs": []
    },
    {
      "cell_type": "code",
      "source": [
        "for i, data in enumerate(val_loader, 0):\n",
        "  input, label = data\n",
        "  print(input.shape) \n",
        "  break"
      ],
      "metadata": {
        "colab": {
          "base_uri": "https://localhost:8080/"
        },
        "id": "D-D0v6IIS5g0",
        "outputId": "5829a958-898d-4d9a-8092-756fb5514cab"
      },
      "execution_count": null,
      "outputs": [
        {
          "output_type": "stream",
          "name": "stdout",
          "text": [
            "torch.Size([32, 3, 256, 256])\n"
          ]
        }
      ]
    },
    {
      "cell_type": "code",
      "source": [
        "class LeNet5(nn.Module):\n",
        "\n",
        "    def __init__(self):\n",
        "        super().__init__()\n",
        "        # 3 input image channel (RGB), 6 output channels, 3x3 square convolution\n",
        "        # kernel\n",
        "        self.conv1 = nn.Conv2d(1, 6, 3)\n",
        "        self.conv2 = nn.Conv2d(6, 16, 3)\n",
        "        # an affine operation: y = Wx + b\n",
        "        self.fc1 = nn.Linear(16 * 6 * 6, 120)  # 6*6 from image dimension\n",
        "        self.fc2 = nn.Linear(120, 84)\n",
        "        self.fc3 = nn.Linear(84, 10)\n",
        "\n",
        "    def forward(self, x):\n",
        "        # Max pooling over a (2, 2) window\n",
        "        x = F.max_pool2d(F.relu(self.conv1(x)), (2, 2))\n",
        "        # If the size is a square you can only specify a single number\n",
        "        x = F.max_pool2d(F.relu(self.conv2(x)), 2)\n",
        "        x = x.view(-1, self.num_flat_features(x))\n",
        "        x = F.relu(self.fc1(x))\n",
        "        x = F.relu(self.fc2(x))\n",
        "        x = self.fc3(x)\n",
        "        return x"
      ],
      "metadata": {
        "id": "-ExBYsuiLQDi"
      },
      "execution_count": null,
      "outputs": []
    },
    {
      "cell_type": "code",
      "source": [
        "# obtain the pretrained model\n",
        "modelvgg16 = torchvision.models.vgg16(pretrained=True)\n",
        "\n",
        "# freeze the params\n",
        "for param in modelvgg16.parameters():\n",
        "    param.requires_grad = False\n",
        "\n",
        "# replace with your classifier\n",
        "num_classes = 21\n",
        "modelvgg16.classifier[6] = nn.Linear(in_features=4096, out_features=num_classes)"
      ],
      "metadata": {
        "colab": {
          "base_uri": "https://localhost:8080/",
          "height": 160,
          "referenced_widgets": [
            "b49955c98b504467818a08a5433f5c4d",
            "e0910d2863bd4f769eb298c810d80e2d",
            "1462a486ecff45c28153f9929d2279da",
            "9d3e83e512cd4fbe896a948eda230908",
            "963fcf96137c48de8780bbb20e00e0e1",
            "f896deb234c147849beebed77fbf211a",
            "4f7436762325445fafee019676d7ac05",
            "4b3d8201c465426fbc3fd9aa53357407",
            "1e4ee5b8c61c4c91839a0a0478780646",
            "c145d384d7aa46339dd85f27eaef64ac",
            "5bda2a0d2a414e91abd742dca214867e"
          ]
        },
        "id": "cMgjwBdJUv9Y",
        "outputId": "68d080df-13ce-440c-f55c-0339aa0e4c12"
      },
      "execution_count": null,
      "outputs": [
        {
          "output_type": "stream",
          "name": "stderr",
          "text": [
            "/usr/local/lib/python3.7/dist-packages/torchvision/models/_utils.py:209: UserWarning: The parameter 'pretrained' is deprecated since 0.13 and will be removed in 0.15, please use 'weights' instead.\n",
            "  f\"The parameter '{pretrained_param}' is deprecated since 0.13 and will be removed in 0.15, \"\n",
            "/usr/local/lib/python3.7/dist-packages/torchvision/models/_utils.py:223: UserWarning: Arguments other than a weight enum or `None` for 'weights' are deprecated since 0.13 and will be removed in 0.15. The current behavior is equivalent to passing `weights=VGG16_Weights.IMAGENET1K_V1`. You can also use `weights=VGG16_Weights.DEFAULT` to get the most up-to-date weights.\n",
            "  warnings.warn(msg)\n",
            "Downloading: \"https://download.pytorch.org/models/vgg16-397923af.pth\" to /root/.cache/torch/hub/checkpoints/vgg16-397923af.pth\n"
          ]
        },
        {
          "output_type": "display_data",
          "data": {
            "text/plain": [
              "  0%|          | 0.00/528M [00:00<?, ?B/s]"
            ],
            "application/vnd.jupyter.widget-view+json": {
              "version_major": 2,
              "version_minor": 0,
              "model_id": "b49955c98b504467818a08a5433f5c4d"
            }
          },
          "metadata": {}
        }
      ]
    },
    {
      "cell_type": "code",
      "source": [
        "modelvgg16 = torchvision.models.vgg16(pretrained=True)"
      ],
      "metadata": {
        "colab": {
          "base_uri": "https://localhost:8080/",
          "height": 160,
          "referenced_widgets": [
            "69ea94fec68a4a3794b708a50f10f549",
            "35ac665bdfb5477ba449653a9c60225d",
            "73df7b3b34764e5383c5770cea921ea4",
            "f63f407a8014498fa19beaeaaf150f9f",
            "2a268a4ec25242c6a3e593f2c68cc5d7",
            "4df49983ffcc4d7abbf37ebb838baabb",
            "0b2892d896c144fdaca3bca878fe4017",
            "47c4c770d42f4caebc3cd1ceb8519639",
            "096ed316217a43aea30e78022c53dc95",
            "d18d6a87478b44479f0d7cd159c405c8",
            "41830bf153c14dcbbc4fd2d2dff2ad63"
          ]
        },
        "id": "tER3O1c7a1ct",
        "outputId": "41b01136-1b15-49dc-e126-167a4d808fb0"
      },
      "execution_count": null,
      "outputs": [
        {
          "output_type": "stream",
          "name": "stderr",
          "text": [
            "/usr/local/lib/python3.7/dist-packages/torchvision/models/_utils.py:209: UserWarning: The parameter 'pretrained' is deprecated since 0.13 and will be removed in 0.15, please use 'weights' instead.\n",
            "  f\"The parameter '{pretrained_param}' is deprecated since 0.13 and will be removed in 0.15, \"\n",
            "/usr/local/lib/python3.7/dist-packages/torchvision/models/_utils.py:223: UserWarning: Arguments other than a weight enum or `None` for 'weights' are deprecated since 0.13 and will be removed in 0.15. The current behavior is equivalent to passing `weights=VGG16_Weights.IMAGENET1K_V1`. You can also use `weights=VGG16_Weights.DEFAULT` to get the most up-to-date weights.\n",
            "  warnings.warn(msg)\n",
            "Downloading: \"https://download.pytorch.org/models/vgg16-397923af.pth\" to /root/.cache/torch/hub/checkpoints/vgg16-397923af.pth\n"
          ]
        },
        {
          "output_type": "display_data",
          "data": {
            "text/plain": [
              "  0%|          | 0.00/528M [00:00<?, ?B/s]"
            ],
            "application/vnd.jupyter.widget-view+json": {
              "version_major": 2,
              "version_minor": 0,
              "model_id": "69ea94fec68a4a3794b708a50f10f549"
            }
          },
          "metadata": {}
        }
      ]
    },
    {
      "cell_type": "code",
      "source": [
        "print(modelvgg16)"
      ],
      "metadata": {
        "colab": {
          "base_uri": "https://localhost:8080/"
        },
        "collapsed": true,
        "id": "QYt_X2zsbIPM",
        "outputId": "3f0ca4e7-05c9-4f33-de7f-ec1e3dbfc171"
      },
      "execution_count": null,
      "outputs": [
        {
          "output_type": "stream",
          "name": "stdout",
          "text": [
            "VGG(\n",
            "  (features): Sequential(\n",
            "    (0): Conv2d(3, 64, kernel_size=(3, 3), stride=(1, 1), padding=(1, 1))\n",
            "    (1): ReLU(inplace=True)\n",
            "    (2): Conv2d(64, 64, kernel_size=(3, 3), stride=(1, 1), padding=(1, 1))\n",
            "    (3): ReLU(inplace=True)\n",
            "    (4): MaxPool2d(kernel_size=2, stride=2, padding=0, dilation=1, ceil_mode=False)\n",
            "    (5): Conv2d(64, 128, kernel_size=(3, 3), stride=(1, 1), padding=(1, 1))\n",
            "    (6): ReLU(inplace=True)\n",
            "    (7): Conv2d(128, 128, kernel_size=(3, 3), stride=(1, 1), padding=(1, 1))\n",
            "    (8): ReLU(inplace=True)\n",
            "    (9): MaxPool2d(kernel_size=2, stride=2, padding=0, dilation=1, ceil_mode=False)\n",
            "    (10): Conv2d(128, 256, kernel_size=(3, 3), stride=(1, 1), padding=(1, 1))\n",
            "    (11): ReLU(inplace=True)\n",
            "    (12): Conv2d(256, 256, kernel_size=(3, 3), stride=(1, 1), padding=(1, 1))\n",
            "    (13): ReLU(inplace=True)\n",
            "    (14): Conv2d(256, 256, kernel_size=(3, 3), stride=(1, 1), padding=(1, 1))\n",
            "    (15): ReLU(inplace=True)\n",
            "    (16): MaxPool2d(kernel_size=2, stride=2, padding=0, dilation=1, ceil_mode=False)\n",
            "    (17): Conv2d(256, 512, kernel_size=(3, 3), stride=(1, 1), padding=(1, 1))\n",
            "    (18): ReLU(inplace=True)\n",
            "    (19): Conv2d(512, 512, kernel_size=(3, 3), stride=(1, 1), padding=(1, 1))\n",
            "    (20): ReLU(inplace=True)\n",
            "    (21): Conv2d(512, 512, kernel_size=(3, 3), stride=(1, 1), padding=(1, 1))\n",
            "    (22): ReLU(inplace=True)\n",
            "    (23): MaxPool2d(kernel_size=2, stride=2, padding=0, dilation=1, ceil_mode=False)\n",
            "    (24): Conv2d(512, 512, kernel_size=(3, 3), stride=(1, 1), padding=(1, 1))\n",
            "    (25): ReLU(inplace=True)\n",
            "    (26): Conv2d(512, 512, kernel_size=(3, 3), stride=(1, 1), padding=(1, 1))\n",
            "    (27): ReLU(inplace=True)\n",
            "    (28): Conv2d(512, 512, kernel_size=(3, 3), stride=(1, 1), padding=(1, 1))\n",
            "    (29): ReLU(inplace=True)\n",
            "    (30): MaxPool2d(kernel_size=2, stride=2, padding=0, dilation=1, ceil_mode=False)\n",
            "  )\n",
            "  (avgpool): AdaptiveAvgPool2d(output_size=(7, 7))\n",
            "  (classifier): Sequential(\n",
            "    (0): Linear(in_features=25088, out_features=4096, bias=True)\n",
            "    (1): ReLU(inplace=True)\n",
            "    (2): Dropout(p=0.5, inplace=False)\n",
            "    (3): Linear(in_features=4096, out_features=4096, bias=True)\n",
            "    (4): ReLU(inplace=True)\n",
            "    (5): Dropout(p=0.5, inplace=False)\n",
            "    (6): Linear(in_features=4096, out_features=1000, bias=True)\n",
            "  )\n",
            ")\n"
          ]
        }
      ]
    },
    {
      "cell_type": "code",
      "source": [
        "modelvgg16.classifier[6] = nn.Linear(in_features=4096, out_features=21, bias=True)"
      ],
      "metadata": {
        "id": "3yUkhBE6bLYE"
      },
      "execution_count": null,
      "outputs": []
    },
    {
      "cell_type": "code",
      "source": [
        "print(modelvgg16)"
      ],
      "metadata": {
        "colab": {
          "base_uri": "https://localhost:8080/"
        },
        "collapsed": true,
        "id": "GRO3KEV1bdE4",
        "outputId": "38424df7-2361-4f72-97ae-3cebba2d69a0"
      },
      "execution_count": null,
      "outputs": [
        {
          "output_type": "stream",
          "name": "stdout",
          "text": [
            "VGG(\n",
            "  (features): Sequential(\n",
            "    (0): Conv2d(3, 64, kernel_size=(3, 3), stride=(1, 1), padding=(1, 1))\n",
            "    (1): ReLU(inplace=True)\n",
            "    (2): Conv2d(64, 64, kernel_size=(3, 3), stride=(1, 1), padding=(1, 1))\n",
            "    (3): ReLU(inplace=True)\n",
            "    (4): MaxPool2d(kernel_size=2, stride=2, padding=0, dilation=1, ceil_mode=False)\n",
            "    (5): Conv2d(64, 128, kernel_size=(3, 3), stride=(1, 1), padding=(1, 1))\n",
            "    (6): ReLU(inplace=True)\n",
            "    (7): Conv2d(128, 128, kernel_size=(3, 3), stride=(1, 1), padding=(1, 1))\n",
            "    (8): ReLU(inplace=True)\n",
            "    (9): MaxPool2d(kernel_size=2, stride=2, padding=0, dilation=1, ceil_mode=False)\n",
            "    (10): Conv2d(128, 256, kernel_size=(3, 3), stride=(1, 1), padding=(1, 1))\n",
            "    (11): ReLU(inplace=True)\n",
            "    (12): Conv2d(256, 256, kernel_size=(3, 3), stride=(1, 1), padding=(1, 1))\n",
            "    (13): ReLU(inplace=True)\n",
            "    (14): Conv2d(256, 256, kernel_size=(3, 3), stride=(1, 1), padding=(1, 1))\n",
            "    (15): ReLU(inplace=True)\n",
            "    (16): MaxPool2d(kernel_size=2, stride=2, padding=0, dilation=1, ceil_mode=False)\n",
            "    (17): Conv2d(256, 512, kernel_size=(3, 3), stride=(1, 1), padding=(1, 1))\n",
            "    (18): ReLU(inplace=True)\n",
            "    (19): Conv2d(512, 512, kernel_size=(3, 3), stride=(1, 1), padding=(1, 1))\n",
            "    (20): ReLU(inplace=True)\n",
            "    (21): Conv2d(512, 512, kernel_size=(3, 3), stride=(1, 1), padding=(1, 1))\n",
            "    (22): ReLU(inplace=True)\n",
            "    (23): MaxPool2d(kernel_size=2, stride=2, padding=0, dilation=1, ceil_mode=False)\n",
            "    (24): Conv2d(512, 512, kernel_size=(3, 3), stride=(1, 1), padding=(1, 1))\n",
            "    (25): ReLU(inplace=True)\n",
            "    (26): Conv2d(512, 512, kernel_size=(3, 3), stride=(1, 1), padding=(1, 1))\n",
            "    (27): ReLU(inplace=True)\n",
            "    (28): Conv2d(512, 512, kernel_size=(3, 3), stride=(1, 1), padding=(1, 1))\n",
            "    (29): ReLU(inplace=True)\n",
            "    (30): MaxPool2d(kernel_size=2, stride=2, padding=0, dilation=1, ceil_mode=False)\n",
            "  )\n",
            "  (avgpool): AdaptiveAvgPool2d(output_size=(7, 7))\n",
            "  (classifier): Sequential(\n",
            "    (0): Linear(in_features=25088, out_features=4096, bias=True)\n",
            "    (1): ReLU(inplace=True)\n",
            "    (2): Dropout(p=0.5, inplace=False)\n",
            "    (3): Linear(in_features=4096, out_features=4096, bias=True)\n",
            "    (4): ReLU(inplace=True)\n",
            "    (5): Dropout(p=0.5, inplace=False)\n",
            "    (6): Linear(in_features=4096, out_features=21, bias=True)\n",
            "  )\n",
            ")\n"
          ]
        }
      ]
    },
    {
      "cell_type": "code",
      "source": [
        "device = torch.device('cuda' if torch.cuda.is_available() else 'cpu')"
      ],
      "metadata": {
        "id": "0_v8pLysbwCk"
      },
      "execution_count": null,
      "outputs": []
    },
    {
      "cell_type": "code",
      "source": [
        "modelvgg16.to(device)"
      ],
      "metadata": {
        "colab": {
          "base_uri": "https://localhost:8080/"
        },
        "collapsed": true,
        "id": "6X3vv50Rcsa-",
        "outputId": "fc690dd4-600e-4fc5-d18a-94ebecf41ba9"
      },
      "execution_count": null,
      "outputs": [
        {
          "output_type": "execute_result",
          "data": {
            "text/plain": [
              "VGG(\n",
              "  (features): Sequential(\n",
              "    (0): Conv2d(3, 64, kernel_size=(3, 3), stride=(1, 1), padding=(1, 1))\n",
              "    (1): ReLU(inplace=True)\n",
              "    (2): Conv2d(64, 64, kernel_size=(3, 3), stride=(1, 1), padding=(1, 1))\n",
              "    (3): ReLU(inplace=True)\n",
              "    (4): MaxPool2d(kernel_size=2, stride=2, padding=0, dilation=1, ceil_mode=False)\n",
              "    (5): Conv2d(64, 128, kernel_size=(3, 3), stride=(1, 1), padding=(1, 1))\n",
              "    (6): ReLU(inplace=True)\n",
              "    (7): Conv2d(128, 128, kernel_size=(3, 3), stride=(1, 1), padding=(1, 1))\n",
              "    (8): ReLU(inplace=True)\n",
              "    (9): MaxPool2d(kernel_size=2, stride=2, padding=0, dilation=1, ceil_mode=False)\n",
              "    (10): Conv2d(128, 256, kernel_size=(3, 3), stride=(1, 1), padding=(1, 1))\n",
              "    (11): ReLU(inplace=True)\n",
              "    (12): Conv2d(256, 256, kernel_size=(3, 3), stride=(1, 1), padding=(1, 1))\n",
              "    (13): ReLU(inplace=True)\n",
              "    (14): Conv2d(256, 256, kernel_size=(3, 3), stride=(1, 1), padding=(1, 1))\n",
              "    (15): ReLU(inplace=True)\n",
              "    (16): MaxPool2d(kernel_size=2, stride=2, padding=0, dilation=1, ceil_mode=False)\n",
              "    (17): Conv2d(256, 512, kernel_size=(3, 3), stride=(1, 1), padding=(1, 1))\n",
              "    (18): ReLU(inplace=True)\n",
              "    (19): Conv2d(512, 512, kernel_size=(3, 3), stride=(1, 1), padding=(1, 1))\n",
              "    (20): ReLU(inplace=True)\n",
              "    (21): Conv2d(512, 512, kernel_size=(3, 3), stride=(1, 1), padding=(1, 1))\n",
              "    (22): ReLU(inplace=True)\n",
              "    (23): MaxPool2d(kernel_size=2, stride=2, padding=0, dilation=1, ceil_mode=False)\n",
              "    (24): Conv2d(512, 512, kernel_size=(3, 3), stride=(1, 1), padding=(1, 1))\n",
              "    (25): ReLU(inplace=True)\n",
              "    (26): Conv2d(512, 512, kernel_size=(3, 3), stride=(1, 1), padding=(1, 1))\n",
              "    (27): ReLU(inplace=True)\n",
              "    (28): Conv2d(512, 512, kernel_size=(3, 3), stride=(1, 1), padding=(1, 1))\n",
              "    (29): ReLU(inplace=True)\n",
              "    (30): MaxPool2d(kernel_size=2, stride=2, padding=0, dilation=1, ceil_mode=False)\n",
              "  )\n",
              "  (avgpool): AdaptiveAvgPool2d(output_size=(7, 7))\n",
              "  (classifier): Sequential(\n",
              "    (0): Linear(in_features=25088, out_features=4096, bias=True)\n",
              "    (1): ReLU(inplace=True)\n",
              "    (2): Dropout(p=0.5, inplace=False)\n",
              "    (3): Linear(in_features=4096, out_features=4096, bias=True)\n",
              "    (4): ReLU(inplace=True)\n",
              "    (5): Dropout(p=0.5, inplace=False)\n",
              "    (6): Linear(in_features=4096, out_features=21, bias=True)\n",
              "  )\n",
              ")"
            ]
          },
          "metadata": {},
          "execution_count": 28
        }
      ]
    },
    {
      "cell_type": "code",
      "source": [
        "criterion = nn.CrossEntropyLoss()"
      ],
      "metadata": {
        "id": "GlgF0nKVc0DV"
      },
      "execution_count": null,
      "outputs": []
    },
    {
      "cell_type": "code",
      "source": [
        "optimizer = optim.SGD(modelvgg16.parameters(), lr=0.001, momentum=0.9)"
      ],
      "metadata": {
        "id": "Df5eD-i_esxy"
      },
      "execution_count": null,
      "outputs": []
    },
    {
      "cell_type": "code",
      "source": [
        "exp_lr_scheduler = lr_scheduler.StepLR(optimizer, step_size=7, gamma=0.1)"
      ],
      "metadata": {
        "id": "0kGpHpOMe15G"
      },
      "execution_count": null,
      "outputs": []
    },
    {
      "cell_type": "code",
      "source": [
        "import copy"
      ],
      "metadata": {
        "id": "rQFej1sggkJg"
      },
      "execution_count": null,
      "outputs": []
    },
    {
      "cell_type": "code",
      "source": [
        "for epoch in range(10):\n",
        "    start = time.perf_counter()\n",
        "    modelvgg16.train()\n",
        "    running_loss = 0.0\n",
        "    correct_pred = 0\n",
        "    for index, data in enumerate(train_loader):\n",
        "        image, label = data\n",
        "        image = image.to(device)\n",
        "        label = label.to(device)\n",
        "        y_pred = modelvgg16(image)\n",
        "        \n",
        "        _, pred = torch.max(y_pred, 1)\n",
        "        correct_pred += (pred == label).sum()\n",
        "        \n",
        "        loss = criterion(y_pred, label)\n",
        "        optimizer.zero_grad()\n",
        "        loss.backward()\n",
        "        optimizer.step()\n",
        "                \n",
        "        running_loss += float(loss.item())\n",
        "    end = time.perf_counter()\n",
        "    print('epoch {}/{}\\tTrain loss: {:.4f}\\tTrain accuracy: {:.2f}%'.\n",
        "          format(epoch + 1, 10, running_loss / (index + 1), correct_pred.item() / (32 * (index + 1)) * 100))\n",
        "    print('Time: {:.2f}s'.format(end - start))\n",
        "print('Finished training!')"
      ],
      "metadata": {
        "colab": {
          "base_uri": "https://localhost:8080/"
        },
        "id": "SuCgRmApmnT2",
        "outputId": "5dd0e3b1-8abf-47a5-9adc-93b561e9eb1f"
      },
      "execution_count": null,
      "outputs": [
        {
          "output_type": "stream",
          "name": "stdout",
          "text": [
            "epoch 1/10\tTrain loss: 2.0647\tTrain accuracy: 46.06%\n",
            "Time: 397.63s\n",
            "epoch 2/10\tTrain loss: 0.8944\tTrain accuracy: 82.70%\n",
            "Time: 17.14s\n",
            "epoch 3/10\tTrain loss: 0.6364\tTrain accuracy: 86.17%\n",
            "Time: 17.11s\n",
            "epoch 4/10\tTrain loss: 0.5205\tTrain accuracy: 88.02%\n",
            "Time: 16.67s\n",
            "epoch 5/10\tTrain loss: 0.4446\tTrain accuracy: 89.06%\n",
            "Time: 16.50s\n",
            "epoch 6/10\tTrain loss: 0.4002\tTrain accuracy: 89.76%\n",
            "Time: 16.67s\n",
            "epoch 7/10\tTrain loss: 0.3470\tTrain accuracy: 91.67%\n",
            "Time: 16.83s\n",
            "epoch 8/10\tTrain loss: 0.3283\tTrain accuracy: 91.72%\n",
            "Time: 16.84s\n",
            "epoch 9/10\tTrain loss: 0.3077\tTrain accuracy: 92.30%\n",
            "Time: 16.71s\n",
            "epoch 10/10\tTrain loss: 0.2884\tTrain accuracy: 92.25%\n",
            "Time: 16.66s\n",
            "Finished training!\n"
          ]
        }
      ]
    },
    {
      "cell_type": "code",
      "source": [
        "os.getcwd()"
      ],
      "metadata": {
        "colab": {
          "base_uri": "https://localhost:8080/",
          "height": 36
        },
        "id": "idq4qKUjv2vw",
        "outputId": "7284988f-3f57-4b30-c79f-99089e298d3f"
      },
      "execution_count": null,
      "outputs": [
        {
          "output_type": "execute_result",
          "data": {
            "text/plain": [
              "'/content/drive/MyDrive/project_27'"
            ],
            "application/vnd.google.colaboratory.intrinsic+json": {
              "type": "string"
            }
          },
          "metadata": {},
          "execution_count": 18
        }
      ]
    },
    {
      "cell_type": "code",
      "source": [
        "torch.save(modelvgg16.state_dict(), 'checkpoint.pth')"
      ],
      "metadata": {
        "id": "aZjxuEBovX-J"
      },
      "execution_count": null,
      "outputs": []
    },
    {
      "cell_type": "code",
      "source": [
        "loader_vgg16 = torch.load('checkpoint.pth')"
      ],
      "metadata": {
        "id": "h_iUWe6uhKtz"
      },
      "execution_count": null,
      "outputs": []
    },
    {
      "cell_type": "code",
      "source": [
        "modelvgg16 = torchvision.models.vgg16(pretrained=False)"
      ],
      "metadata": {
        "colab": {
          "base_uri": "https://localhost:8080/"
        },
        "id": "eM26bd5piFMq",
        "outputId": "ea918fa9-b58a-44c5-f80c-a591321aa699"
      },
      "execution_count": null,
      "outputs": [
        {
          "output_type": "stream",
          "name": "stderr",
          "text": [
            "/usr/local/lib/python3.7/dist-packages/torchvision/models/_utils.py:209: UserWarning: The parameter 'pretrained' is deprecated since 0.13 and will be removed in 0.15, please use 'weights' instead.\n",
            "  f\"The parameter '{pretrained_param}' is deprecated since 0.13 and will be removed in 0.15, \"\n",
            "/usr/local/lib/python3.7/dist-packages/torchvision/models/_utils.py:223: UserWarning: Arguments other than a weight enum or `None` for 'weights' are deprecated since 0.13 and will be removed in 0.15. The current behavior is equivalent to passing `weights=None`.\n",
            "  warnings.warn(msg)\n"
          ]
        }
      ]
    },
    {
      "cell_type": "code",
      "source": [
        "modelvgg16.classifier[6] = nn.Linear(in_features=4096, out_features=21, bias=True)"
      ],
      "metadata": {
        "id": "C9SP2dM1i1wL"
      },
      "execution_count": null,
      "outputs": []
    },
    {
      "cell_type": "code",
      "source": [
        "modelvgg16.load_state_dict(torch.load('checkpoint.pth'))"
      ],
      "metadata": {
        "colab": {
          "base_uri": "https://localhost:8080/"
        },
        "id": "jmPrK2W6iFJW",
        "outputId": "0c96f9bf-ca6b-4c69-b566-92c12a4bad15"
      },
      "execution_count": null,
      "outputs": [
        {
          "output_type": "execute_result",
          "data": {
            "text/plain": [
              "<All keys matched successfully>"
            ]
          },
          "metadata": {},
          "execution_count": 29
        }
      ]
    },
    {
      "cell_type": "code",
      "source": [
        "modelvgg16.eval()"
      ],
      "metadata": {
        "colab": {
          "base_uri": "https://localhost:8080/"
        },
        "id": "yu7E6Qrdi820",
        "outputId": "d4006327-55a8-4a0d-ca2c-3b65e3c8ac8b"
      },
      "execution_count": null,
      "outputs": [
        {
          "output_type": "execute_result",
          "data": {
            "text/plain": [
              "VGG(\n",
              "  (features): Sequential(\n",
              "    (0): Conv2d(3, 64, kernel_size=(3, 3), stride=(1, 1), padding=(1, 1))\n",
              "    (1): ReLU(inplace=True)\n",
              "    (2): Conv2d(64, 64, kernel_size=(3, 3), stride=(1, 1), padding=(1, 1))\n",
              "    (3): ReLU(inplace=True)\n",
              "    (4): MaxPool2d(kernel_size=2, stride=2, padding=0, dilation=1, ceil_mode=False)\n",
              "    (5): Conv2d(64, 128, kernel_size=(3, 3), stride=(1, 1), padding=(1, 1))\n",
              "    (6): ReLU(inplace=True)\n",
              "    (7): Conv2d(128, 128, kernel_size=(3, 3), stride=(1, 1), padding=(1, 1))\n",
              "    (8): ReLU(inplace=True)\n",
              "    (9): MaxPool2d(kernel_size=2, stride=2, padding=0, dilation=1, ceil_mode=False)\n",
              "    (10): Conv2d(128, 256, kernel_size=(3, 3), stride=(1, 1), padding=(1, 1))\n",
              "    (11): ReLU(inplace=True)\n",
              "    (12): Conv2d(256, 256, kernel_size=(3, 3), stride=(1, 1), padding=(1, 1))\n",
              "    (13): ReLU(inplace=True)\n",
              "    (14): Conv2d(256, 256, kernel_size=(3, 3), stride=(1, 1), padding=(1, 1))\n",
              "    (15): ReLU(inplace=True)\n",
              "    (16): MaxPool2d(kernel_size=2, stride=2, padding=0, dilation=1, ceil_mode=False)\n",
              "    (17): Conv2d(256, 512, kernel_size=(3, 3), stride=(1, 1), padding=(1, 1))\n",
              "    (18): ReLU(inplace=True)\n",
              "    (19): Conv2d(512, 512, kernel_size=(3, 3), stride=(1, 1), padding=(1, 1))\n",
              "    (20): ReLU(inplace=True)\n",
              "    (21): Conv2d(512, 512, kernel_size=(3, 3), stride=(1, 1), padding=(1, 1))\n",
              "    (22): ReLU(inplace=True)\n",
              "    (23): MaxPool2d(kernel_size=2, stride=2, padding=0, dilation=1, ceil_mode=False)\n",
              "    (24): Conv2d(512, 512, kernel_size=(3, 3), stride=(1, 1), padding=(1, 1))\n",
              "    (25): ReLU(inplace=True)\n",
              "    (26): Conv2d(512, 512, kernel_size=(3, 3), stride=(1, 1), padding=(1, 1))\n",
              "    (27): ReLU(inplace=True)\n",
              "    (28): Conv2d(512, 512, kernel_size=(3, 3), stride=(1, 1), padding=(1, 1))\n",
              "    (29): ReLU(inplace=True)\n",
              "    (30): MaxPool2d(kernel_size=2, stride=2, padding=0, dilation=1, ceil_mode=False)\n",
              "  )\n",
              "  (avgpool): AdaptiveAvgPool2d(output_size=(7, 7))\n",
              "  (classifier): Sequential(\n",
              "    (0): Linear(in_features=25088, out_features=4096, bias=True)\n",
              "    (1): ReLU(inplace=True)\n",
              "    (2): Dropout(p=0.5, inplace=False)\n",
              "    (3): Linear(in_features=4096, out_features=4096, bias=True)\n",
              "    (4): ReLU(inplace=True)\n",
              "    (5): Dropout(p=0.5, inplace=False)\n",
              "    (6): Linear(in_features=4096, out_features=21, bias=True)\n",
              "  )\n",
              ")"
            ]
          },
          "metadata": {},
          "execution_count": 30
        }
      ]
    },
    {
      "cell_type": "markdown",
      "source": [
        "#### sample image test"
      ],
      "metadata": {
        "id": "nG5I5FmdvmAe"
      }
    },
    {
      "cell_type": "code",
      "source": [
        "imgg = Image.open('/content/drive/MyDrive/project_27/Images/buildings/buildings01.tif')"
      ],
      "metadata": {
        "id": "-lZ4dMoOi80R"
      },
      "execution_count": null,
      "outputs": []
    },
    {
      "cell_type": "code",
      "source": [
        "imgg = transform(imgg)"
      ],
      "metadata": {
        "id": "2z5ED583hKmj"
      },
      "execution_count": null,
      "outputs": []
    },
    {
      "cell_type": "code",
      "source": [
        "imgg = imgg.unsqueeze(0)"
      ],
      "metadata": {
        "id": "PY2EoWTfj_I5"
      },
      "execution_count": null,
      "outputs": []
    },
    {
      "cell_type": "code",
      "source": [
        "output1 = modelvgg16(imgg)"
      ],
      "metadata": {
        "id": "vdPEaP4khKjR"
      },
      "execution_count": null,
      "outputs": []
    },
    {
      "cell_type": "code",
      "source": [
        "_, predicted = torch.max(output1.data, 1)"
      ],
      "metadata": {
        "id": "_eZHrybJjxLF"
      },
      "execution_count": null,
      "outputs": []
    },
    {
      "cell_type": "code",
      "source": [
        "print(predicted)"
      ],
      "metadata": {
        "colab": {
          "base_uri": "https://localhost:8080/"
        },
        "id": "v4e7kxjcjxHz",
        "outputId": "12139881-9b5a-4226-ec8e-3142f7c70800"
      },
      "execution_count": null,
      "outputs": [
        {
          "output_type": "error",
          "ename": "NameError",
          "evalue": "ignored",
          "traceback": [
            "\u001b[0;31m---------------------------------------------------------------------------\u001b[0m",
            "\u001b[0;31mNameError\u001b[0m                                 Traceback (most recent call last)",
            "\u001b[0;32m<ipython-input-1-610e78f865fc>\u001b[0m in \u001b[0;36m<module>\u001b[0;34m\u001b[0m\n\u001b[0;32m----> 1\u001b[0;31m \u001b[0mprint\u001b[0m\u001b[0;34m(\u001b[0m\u001b[0mpredicted\u001b[0m\u001b[0;34m)\u001b[0m\u001b[0;34m\u001b[0m\u001b[0;34m\u001b[0m\u001b[0m\n\u001b[0m",
            "\u001b[0;31mNameError\u001b[0m: name 'predicted' is not defined"
          ]
        }
      ]
    },
    {
      "cell_type": "markdown",
      "source": [
        "### Test Data"
      ],
      "metadata": {
        "id": "tNq1Aocyv-kA"
      }
    },
    {
      "cell_type": "code",
      "source": [
        "len(test_dataset), len(val_dataset)"
      ],
      "metadata": {
        "colab": {
          "base_uri": "https://localhost:8080/"
        },
        "id": "RnK-aAG4mnOQ",
        "outputId": "76ca467d-2002-43b8-dee5-f3ca402207f3"
      },
      "execution_count": null,
      "outputs": [
        {
          "output_type": "execute_result",
          "data": {
            "text/plain": [
              "(210, 189)"
            ]
          },
          "metadata": {},
          "execution_count": 31
        }
      ]
    },
    {
      "cell_type": "code",
      "source": [
        "test_loss = 0.0\n",
        "correct_pred = 0\n",
        "for _, data in enumerate(val_loader):\n",
        "    image, label = data\n",
        "    image = image.to(device)\n",
        "    label = label.to(device)\n",
        "    y_pred = modelvgg16(image)\n",
        "\n",
        "    _, pred = torch.max(y_pred, 1)\n",
        "    correct_pred += (pred == label).sum()\n",
        "    \n",
        "    loss = criterion(y_pred, label)\n",
        "    test_loss += float(loss.item())\n",
        "print('Test loss: {:.4f}\\tTest accuracy: {:.2f}%'.format(test_loss / 32, correct_pred.item() / 189 * 100))"
      ],
      "metadata": {
        "colab": {
          "base_uri": "https://localhost:8080/"
        },
        "id": "TcTEcbvOjxFJ",
        "outputId": "368840bf-55cd-4a8a-e6b8-f59f8c4da94f"
      },
      "execution_count": null,
      "outputs": [
        {
          "output_type": "stream",
          "name": "stdout",
          "text": [
            "Test loss: 0.0394\tTest accuracy: 96.30%\n"
          ]
        }
      ]
    },
    {
      "cell_type": "code",
      "source": [
        "test_loss = 0.0\n",
        "correct_pred = 0\n",
        "for _, data in enumerate(train_loader):\n",
        "    image, label = data\n",
        "    image = image.to(device)\n",
        "    label = label.to(device)\n",
        "    y_pred = modelvgg16(image)\n",
        "\n",
        "    _, pred = torch.max(y_pred, 1)\n",
        "    correct_pred += (pred == label).sum()\n",
        "    \n",
        "    loss = criterion(y_pred, label)\n",
        "    test_loss += float(loss.item())\n",
        "print('Test loss: {:.4f}\\tTest accuracy: {:.2f}%'.format(test_loss / 32, correct_pred.item() / 1701 * 100))"
      ],
      "metadata": {
        "colab": {
          "base_uri": "https://localhost:8080/"
        },
        "id": "yEZYC7_DyUPe",
        "outputId": "7aee7798-8411-419e-e360-e4bd24a2b0a1"
      },
      "execution_count": null,
      "outputs": [
        {
          "output_type": "stream",
          "name": "stdout",
          "text": [
            "Test loss: 0.4147\tTest accuracy: 96.12%\n"
          ]
        }
      ]
    },
    {
      "cell_type": "code",
      "source": [
        "test_loss = 0.0\n",
        "correct_pred = 0\n",
        "for _, data in enumerate(test_loader):\n",
        "    image, label = data\n",
        "    image = image.to(device)\n",
        "    label = label.to(device)\n",
        "    y_pred = modelvgg16(image)\n",
        "\n",
        "    _, pred = torch.max(y_pred, 1)\n",
        "    correct_pred += (pred == label).sum()\n",
        "    \n",
        "    loss = criterion(y_pred, label)\n",
        "    test_loss += float(loss.item())\n",
        "print('Test loss: {:.4f}\\tTest accuracy: {:.2f}%'.format(test_loss / 32, correct_pred.item() / 210 * 100))"
      ],
      "metadata": {
        "colab": {
          "base_uri": "https://localhost:8080/"
        },
        "id": "7MZ4TmD-ycSb",
        "outputId": "8797ff07-f1d3-41c0-f1cd-d8d613bca5f7"
      },
      "execution_count": null,
      "outputs": [
        {
          "output_type": "stream",
          "name": "stdout",
          "text": [
            "Test loss: 0.0502\tTest accuracy: 96.19%\n"
          ]
        }
      ]
    },
    {
      "cell_type": "code",
      "source": [
        "y_pred"
      ],
      "metadata": {
        "colab": {
          "base_uri": "https://localhost:8080/",
          "height": 171
        },
        "id": "0SaHQj871Fbu",
        "outputId": "6e871575-cfca-4d1f-a0bb-c6a4c8592643"
      },
      "execution_count": null,
      "outputs": [
        {
          "output_type": "error",
          "ename": "NameError",
          "evalue": "ignored",
          "traceback": [
            "\u001b[0;31m---------------------------------------------------------------------------\u001b[0m",
            "\u001b[0;31mNameError\u001b[0m                                 Traceback (most recent call last)",
            "\u001b[0;32m<ipython-input-1-3aaf935e6aec>\u001b[0m in \u001b[0;36m<module>\u001b[0;34m\u001b[0m\n\u001b[0;32m----> 1\u001b[0;31m \u001b[0my_pred\u001b[0m\u001b[0;34m\u001b[0m\u001b[0;34m\u001b[0m\u001b[0m\n\u001b[0m",
            "\u001b[0;31mNameError\u001b[0m: name 'y_pred' is not defined"
          ]
        }
      ]
    },
    {
      "cell_type": "code",
      "source": [
        "len(test_loader.dataset)"
      ],
      "metadata": {
        "colab": {
          "base_uri": "https://localhost:8080/"
        },
        "id": "BJUgahW6AV7_",
        "outputId": "44f0df64-fca1-4a89-9f39-9e5c268b49a1"
      },
      "execution_count": null,
      "outputs": [
        {
          "output_type": "execute_result",
          "data": {
            "text/plain": [
              "210"
            ]
          },
          "metadata": {},
          "execution_count": 37
        }
      ]
    },
    {
      "cell_type": "code",
      "source": [
        "for _, data in enumerate(test_loader):\n",
        "  print(_)"
      ],
      "metadata": {
        "colab": {
          "base_uri": "https://localhost:8080/"
        },
        "id": "Xyr8NI68-YQ3",
        "outputId": "2095ffa2-308a-4947-95c2-45d8bd125852"
      },
      "execution_count": null,
      "outputs": [
        {
          "output_type": "stream",
          "name": "stdout",
          "text": [
            "0\n",
            "1\n",
            "2\n",
            "3\n",
            "4\n",
            "5\n",
            "6\n"
          ]
        }
      ]
    },
    {
      "cell_type": "markdown",
      "source": [
        "### Extra"
      ],
      "metadata": {
        "id": "pWgi3kB-v4qJ"
      }
    },
    {
      "cell_type": "code",
      "source": [
        "def train_model(model, criterion, optimizer, scheduler, num_epochs=25):\n",
        "    since = time.time()\n",
        "    best_model_wts = copy.deepcopy(model.state_dict())\n",
        "    best_acc = 0.0\n",
        "    for epoch in range(num_epochs):\n",
        "        print('Epoch {}/{}'.format(epoch, num_epochs - 1))\n",
        "        print('-' * 10)\n",
        "        # Each epoch has a training and validation phase\n",
        "        for phase in ['train', 'val']:\n",
        "            if phase == 'train':\n",
        "                model.train()  # Set model to training mode\n",
        "            else:\n",
        "                model.eval()   # Set model to evaluate mode\n",
        "            running_loss = 0.0\n",
        "            running_corrects = 0\n",
        "            # Iterate over data.\n",
        "            for inputs, labels in train_loader:\n",
        "                inputs = inputs.to(device)\n",
        "                labels = labels.to(device)\n",
        "                # zero the parameter gradients\n",
        "                optimizer.zero_grad()\n",
        "                # forward\n",
        "                # track history if only in train\n",
        "                with torch.set_grad_enabled(phase == 'train'):\n",
        "                    outputs = model(inputs)\n",
        "                    _, preds = torch.max(outputs, 1)\n",
        "                    loss = criterion(outputs, labels)\n",
        "                    # backward + optimize only if in training phase\n",
        "                    if phase == 'train':\n",
        "                        loss.backward()\n",
        "                        optimizer.step()\n",
        "                # statistics\n",
        "                running_loss += loss.item() * inputs.size(0)\n",
        "                running_corrects += torch.sum(preds == labels.data)\n",
        "            if phase == 'train':\n",
        "                scheduler.step()\n",
        "            epoch_loss = running_loss\n",
        "            epoch_acc = running_corrects.double()\n",
        "            print('{} Loss: {:.4f} Acc: {:.4f}'.format(\n",
        "                phase, epoch_loss, epoch_acc))\n",
        "            # deep copy the model\n",
        "        print()\n",
        "    time_elapsed = time.time() - since\n",
        "    print('Training complete in {:.0f}m {:.0f}s'.format(\n",
        "        time_elapsed // 60, time_elapsed % 60))\n",
        "    # load best model weights\n",
        "    model.load_state_dict(best_model_wts)\n",
        "    return model"
      ],
      "metadata": {
        "id": "nSlVtc2ffnOs"
      },
      "execution_count": null,
      "outputs": []
    },
    {
      "cell_type": "code",
      "source": [
        "model_ftvgg16 = train_model(modelvgg16, criterion, optimizer, exp_lr_scheduler,\n",
        "                       num_epochs=25)"
      ],
      "metadata": {
        "colab": {
          "base_uri": "https://localhost:8080/"
        },
        "id": "10qffYcfhcA2",
        "outputId": "025c64f5-d20f-4b4d-d861-2ae9e9337b2a"
      },
      "execution_count": null,
      "outputs": [
        {
          "output_type": "stream",
          "name": "stdout",
          "text": [
            "Epoch 0/24\n",
            "----------\n",
            "train Loss: 2790.4353 Acc: 911.0000\n",
            "val Loss: 446.1682 Acc: 1570.0000\n",
            "\n",
            "Epoch 1/24\n",
            "----------\n",
            "train Loss: 572.5435 Acc: 1506.0000\n",
            "val Loss: 194.7869 Acc: 1636.0000\n",
            "\n",
            "Epoch 2/24\n",
            "----------\n",
            "train Loss: 280.4991 Acc: 1607.0000\n",
            "val Loss: 64.2181 Acc: 1680.0000\n",
            "\n",
            "Epoch 3/24\n",
            "----------\n",
            "train Loss: 119.7822 Acc: 1661.0000\n",
            "val Loss: 75.9691 Acc: 1676.0000\n",
            "\n",
            "Epoch 4/24\n",
            "----------\n",
            "train Loss: 90.7320 Acc: 1669.0000\n",
            "val Loss: 13.5576 Acc: 1699.0000\n",
            "\n",
            "Epoch 5/24\n",
            "----------\n",
            "train Loss: 75.3580 Acc: 1673.0000\n",
            "val Loss: 17.8438 Acc: 1695.0000\n",
            "\n",
            "Epoch 6/24\n",
            "----------\n",
            "train Loss: 38.4419 Acc: 1693.0000\n",
            "val Loss: 18.0091 Acc: 1697.0000\n",
            "\n",
            "Epoch 7/24\n",
            "----------\n",
            "train Loss: 36.6299 Acc: 1688.0000\n",
            "val Loss: 1.8360 Acc: 1701.0000\n",
            "\n",
            "Epoch 8/24\n",
            "----------\n",
            "train Loss: 9.7979 Acc: 1699.0000\n",
            "val Loss: 1.1328 Acc: 1701.0000\n",
            "\n",
            "Epoch 9/24\n",
            "----------\n",
            "train Loss: 8.7415 Acc: 1698.0000\n",
            "val Loss: 0.8259 Acc: 1701.0000\n",
            "\n",
            "Epoch 10/24\n",
            "----------\n",
            "train Loss: 5.7160 Acc: 1701.0000\n",
            "val Loss: 0.7452 Acc: 1701.0000\n",
            "\n",
            "Epoch 11/24\n",
            "----------\n",
            "train Loss: 7.6803 Acc: 1698.0000\n",
            "val Loss: 0.6431 Acc: 1701.0000\n",
            "\n",
            "Epoch 12/24\n",
            "----------\n",
            "train Loss: 8.5386 Acc: 1699.0000\n",
            "val Loss: 0.5503 Acc: 1701.0000\n",
            "\n",
            "Epoch 13/24\n",
            "----------\n",
            "train Loss: 5.4182 Acc: 1701.0000\n",
            "val Loss: 0.4866 Acc: 1701.0000\n",
            "\n",
            "Epoch 14/24\n",
            "----------\n",
            "train Loss: 4.5060 Acc: 1701.0000\n",
            "val Loss: 0.4824 Acc: 1701.0000\n",
            "\n",
            "Epoch 15/24\n",
            "----------\n",
            "train Loss: 3.6233 Acc: 1701.0000\n",
            "val Loss: 0.4802 Acc: 1701.0000\n",
            "\n",
            "Epoch 16/24\n",
            "----------\n",
            "train Loss: 4.8388 Acc: 1699.0000\n",
            "val Loss: 0.4701 Acc: 1701.0000\n",
            "\n",
            "Epoch 17/24\n",
            "----------\n",
            "train Loss: 5.6223 Acc: 1699.0000\n",
            "val Loss: 0.4613 Acc: 1701.0000\n",
            "\n",
            "Epoch 18/24\n",
            "----------\n",
            "train Loss: 3.4836 Acc: 1701.0000\n",
            "val Loss: 0.4564 Acc: 1701.0000\n",
            "\n",
            "Epoch 19/24\n",
            "----------\n",
            "train Loss: 4.5074 Acc: 1700.0000\n",
            "val Loss: 0.4489 Acc: 1701.0000\n",
            "\n",
            "Epoch 20/24\n",
            "----------\n",
            "train Loss: 5.8154 Acc: 1700.0000\n",
            "val Loss: 0.4447 Acc: 1701.0000\n",
            "\n",
            "Epoch 21/24\n",
            "----------\n",
            "train Loss: 8.0952 Acc: 1700.0000\n",
            "val Loss: 0.4440 Acc: 1701.0000\n",
            "\n",
            "Epoch 22/24\n",
            "----------\n",
            "train Loss: 4.4541 Acc: 1700.0000\n",
            "val Loss: 0.4441 Acc: 1701.0000\n",
            "\n",
            "Epoch 23/24\n",
            "----------\n",
            "train Loss: 4.9294 Acc: 1700.0000\n",
            "val Loss: 0.4438 Acc: 1701.0000\n",
            "\n",
            "Epoch 24/24\n",
            "----------\n",
            "train Loss: 6.8510 Acc: 1699.0000\n",
            "val Loss: 0.4434 Acc: 1701.0000\n",
            "\n",
            "Training complete in 29m 2s\n"
          ]
        }
      ]
    },
    {
      "cell_type": "code",
      "source": [
        "model_ftvgg16.parameters"
      ],
      "metadata": {
        "colab": {
          "base_uri": "https://localhost:8080/"
        },
        "id": "no9wlLgVhkwI",
        "outputId": "135085d4-f495-4290-975a-1621b0515f57"
      },
      "execution_count": null,
      "outputs": [
        {
          "output_type": "execute_result",
          "data": {
            "text/plain": [
              "<bound method Module.parameters of VGG(\n",
              "  (features): Sequential(\n",
              "    (0): Conv2d(3, 64, kernel_size=(3, 3), stride=(1, 1), padding=(1, 1))\n",
              "    (1): ReLU(inplace=True)\n",
              "    (2): Conv2d(64, 64, kernel_size=(3, 3), stride=(1, 1), padding=(1, 1))\n",
              "    (3): ReLU(inplace=True)\n",
              "    (4): MaxPool2d(kernel_size=2, stride=2, padding=0, dilation=1, ceil_mode=False)\n",
              "    (5): Conv2d(64, 128, kernel_size=(3, 3), stride=(1, 1), padding=(1, 1))\n",
              "    (6): ReLU(inplace=True)\n",
              "    (7): Conv2d(128, 128, kernel_size=(3, 3), stride=(1, 1), padding=(1, 1))\n",
              "    (8): ReLU(inplace=True)\n",
              "    (9): MaxPool2d(kernel_size=2, stride=2, padding=0, dilation=1, ceil_mode=False)\n",
              "    (10): Conv2d(128, 256, kernel_size=(3, 3), stride=(1, 1), padding=(1, 1))\n",
              "    (11): ReLU(inplace=True)\n",
              "    (12): Conv2d(256, 256, kernel_size=(3, 3), stride=(1, 1), padding=(1, 1))\n",
              "    (13): ReLU(inplace=True)\n",
              "    (14): Conv2d(256, 256, kernel_size=(3, 3), stride=(1, 1), padding=(1, 1))\n",
              "    (15): ReLU(inplace=True)\n",
              "    (16): MaxPool2d(kernel_size=2, stride=2, padding=0, dilation=1, ceil_mode=False)\n",
              "    (17): Conv2d(256, 512, kernel_size=(3, 3), stride=(1, 1), padding=(1, 1))\n",
              "    (18): ReLU(inplace=True)\n",
              "    (19): Conv2d(512, 512, kernel_size=(3, 3), stride=(1, 1), padding=(1, 1))\n",
              "    (20): ReLU(inplace=True)\n",
              "    (21): Conv2d(512, 512, kernel_size=(3, 3), stride=(1, 1), padding=(1, 1))\n",
              "    (22): ReLU(inplace=True)\n",
              "    (23): MaxPool2d(kernel_size=2, stride=2, padding=0, dilation=1, ceil_mode=False)\n",
              "    (24): Conv2d(512, 512, kernel_size=(3, 3), stride=(1, 1), padding=(1, 1))\n",
              "    (25): ReLU(inplace=True)\n",
              "    (26): Conv2d(512, 512, kernel_size=(3, 3), stride=(1, 1), padding=(1, 1))\n",
              "    (27): ReLU(inplace=True)\n",
              "    (28): Conv2d(512, 512, kernel_size=(3, 3), stride=(1, 1), padding=(1, 1))\n",
              "    (29): ReLU(inplace=True)\n",
              "    (30): MaxPool2d(kernel_size=2, stride=2, padding=0, dilation=1, ceil_mode=False)\n",
              "  )\n",
              "  (avgpool): AdaptiveAvgPool2d(output_size=(7, 7))\n",
              "  (classifier): Sequential(\n",
              "    (0): Linear(in_features=25088, out_features=4096, bias=True)\n",
              "    (1): ReLU(inplace=True)\n",
              "    (2): Dropout(p=0.5, inplace=False)\n",
              "    (3): Linear(in_features=4096, out_features=4096, bias=True)\n",
              "    (4): ReLU(inplace=True)\n",
              "    (5): Dropout(p=0.5, inplace=False)\n",
              "    (6): Linear(in_features=4096, out_features=21, bias=True)\n",
              "  )\n",
              ")>"
            ]
          },
          "metadata": {},
          "execution_count": 28
        }
      ]
    },
    {
      "cell_type": "code",
      "source": [],
      "metadata": {
        "id": "f4nFe8-JqlqA"
      },
      "execution_count": null,
      "outputs": []
    }
  ]
}
